{
 "cells": [
  {
   "cell_type": "code",
   "execution_count": 11,
   "id": "99622330",
   "metadata": {},
   "outputs": [],
   "source": [
    "string = 'AABCAAADA'\n",
    "k = 3\n",
    "\n",
    "def print_us(string, k):\n",
    "    n = len(string)\n",
    "    t = []\n",
    "    for i in range(0,n,k):\n",
    "        t.append(string[i:i+k])\n",
    "    print(t)"
   ]
  },
  {
   "cell_type": "code",
   "execution_count": 12,
   "id": "9536aa13",
   "metadata": {},
   "outputs": [
    {
     "name": "stdout",
     "output_type": "stream",
     "text": [
      "['AAB', 'CAA', 'ADA']\n"
     ]
    }
   ],
   "source": [
    "print_us(string, k)"
   ]
  },
  {
   "cell_type": "code",
   "execution_count": 17,
   "id": "28ba50e2",
   "metadata": {},
   "outputs": [],
   "source": [
    "def print_us(string, k):\n",
    "    n = len(string)\n",
    "    t = []\n",
    "    for i in range(0,n,k):\n",
    "        t.append(string[i:i+k])\n",
    "    # print(t)\n",
    "    for t_i in t:\n",
    "        u = ''\n",
    "        for char in t_i:\n",
    "            if char not in u:\n",
    "                u += char\n",
    "        print(u)"
   ]
  },
  {
   "cell_type": "code",
   "execution_count": 14,
   "id": "9386e57a",
   "metadata": {},
   "outputs": [
    {
     "name": "stdout",
     "output_type": "stream",
     "text": [
      "AB\n",
      "CA\n",
      "AD\n"
     ]
    }
   ],
   "source": [
    "print_us(string, k)"
   ]
  },
  {
   "cell_type": "code",
   "execution_count": null,
   "id": "b94ea8a7",
   "metadata": {},
   "outputs": [],
   "source": []
  }
 ],
 "metadata": {
  "kernelspec": {
   "display_name": "Python 3 (ipykernel)",
   "language": "python",
   "name": "python3"
  },
  "language_info": {
   "codemirror_mode": {
    "name": "ipython",
    "version": 3
   },
   "file_extension": ".py",
   "mimetype": "text/x-python",
   "name": "python",
   "nbconvert_exporter": "python",
   "pygments_lexer": "ipython3",
   "version": "3.9.7"
  }
 },
 "nbformat": 4,
 "nbformat_minor": 5
}
