{
 "cells": [
  {
   "cell_type": "code",
   "execution_count": 1,
   "id": "6013b752-921c-4846-9114-6bb2d8d26d78",
   "metadata": {},
   "outputs": [],
   "source": [
    "lst = [\"gato\", \"elefante\", \"pinguino\"]"
   ]
  },
  {
   "cell_type": "code",
   "execution_count": 2,
   "id": "2f7c09d8-c53c-4668-ae54-3cf95f48e845",
   "metadata": {},
   "outputs": [],
   "source": [
    "def word_length(lst):\n",
    "    return {word:len(word) for word in lst}"
   ]
  },
  {
   "cell_type": "code",
   "execution_count": 3,
   "id": "774c6a66-ee01-47af-b0b0-9fe877bd2696",
   "metadata": {},
   "outputs": [
    {
     "name": "stdout",
     "output_type": "stream",
     "text": [
      "{'gato': 4, 'elefante': 8, 'pinguino': 8}\n"
     ]
    }
   ],
   "source": [
    "print(word_length(lst))"
   ]
  },
  {
   "cell_type": "code",
   "execution_count": 4,
   "id": "61ccaac7-d7f9-40d6-a4a7-94bf9f25c12a",
   "metadata": {},
   "outputs": [],
   "source": [
    "def word_length_long(lst):\n",
    "    my_dict = {}\n",
    "    for element in lst:\n",
    "        my_dict[element] = len(element)\n",
    "    return my_dict"
   ]
  },
  {
   "cell_type": "code",
   "execution_count": 5,
   "id": "7da09ff5-3bf0-4283-b5c5-46fc6fe59268",
   "metadata": {},
   "outputs": [
    {
     "name": "stdout",
     "output_type": "stream",
     "text": [
      "{'gato': 4, 'elefante': 8, 'pinguino': 8}\n"
     ]
    }
   ],
   "source": [
    "print(word_length_long(lst))"
   ]
  },
  {
   "cell_type": "code",
   "execution_count": 33,
   "id": "8d3e2a8e-4a53-48a4-b74b-73c31f6a1df0",
   "metadata": {},
   "outputs": [],
   "source": [
    "# Nope... recursivity\n",
    "def count_word(lst):\n",
    "    my_dict = {word:lst.count(word) for word in lst if word not in my_dict} \n",
    "    return my_dict"
   ]
  },
  {
   "cell_type": "code",
   "execution_count": 34,
   "id": "a7069b8d-5295-4031-84e3-b354b989dc18",
   "metadata": {},
   "outputs": [],
   "source": [
    "lst = [\"gato\", \"elefante\", \"pinguino\", \"gato\", \"gato\", \"pinguino\"]\n",
    "# print(\"ok\" if \"perro\" not in lst  else \"Not ok\")"
   ]
  },
  {
   "cell_type": "code",
   "execution_count": 35,
   "id": "f5c8e638-2e78-4a5e-b7a0-48389906808c",
   "metadata": {},
   "outputs": [
    {
     "ename": "NameError",
     "evalue": "free variable 'my_dict' referenced before assignment in enclosing scope",
     "output_type": "error",
     "traceback": [
      "\u001b[1;31m---------------------------------------------------------------------------\u001b[0m",
      "\u001b[1;31mNameError\u001b[0m                                 Traceback (most recent call last)",
      "Input \u001b[1;32mIn [35]\u001b[0m, in \u001b[0;36m<cell line: 1>\u001b[1;34m()\u001b[0m\n\u001b[1;32m----> 1\u001b[0m \u001b[38;5;28mprint\u001b[39m(\u001b[43mcount_word\u001b[49m\u001b[43m(\u001b[49m\u001b[43mlst\u001b[49m\u001b[43m)\u001b[49m)\n",
      "Input \u001b[1;32mIn [33]\u001b[0m, in \u001b[0;36mcount_word\u001b[1;34m(lst)\u001b[0m\n\u001b[0;32m      2\u001b[0m \u001b[38;5;28;01mdef\u001b[39;00m \u001b[38;5;21mcount_word\u001b[39m(lst):\n\u001b[1;32m----> 3\u001b[0m     my_dict \u001b[38;5;241m=\u001b[39m {word:lst\u001b[38;5;241m.\u001b[39mcount(word) \u001b[38;5;28;01mfor\u001b[39;00m word \u001b[38;5;129;01min\u001b[39;00m lst \u001b[38;5;28;01mif\u001b[39;00m word \u001b[38;5;129;01mnot\u001b[39;00m \u001b[38;5;129;01min\u001b[39;00m my_dict} \n\u001b[0;32m      4\u001b[0m     \u001b[38;5;28;01mreturn\u001b[39;00m my_dict\n",
      "Input \u001b[1;32mIn [33]\u001b[0m, in \u001b[0;36m<dictcomp>\u001b[1;34m(.0)\u001b[0m\n\u001b[0;32m      2\u001b[0m \u001b[38;5;28;01mdef\u001b[39;00m \u001b[38;5;21mcount_word\u001b[39m(lst):\n\u001b[1;32m----> 3\u001b[0m     my_dict \u001b[38;5;241m=\u001b[39m {word:lst\u001b[38;5;241m.\u001b[39mcount(word) \u001b[38;5;28;01mfor\u001b[39;00m word \u001b[38;5;129;01min\u001b[39;00m lst \u001b[38;5;28;01mif\u001b[39;00m word \u001b[38;5;129;01mnot\u001b[39;00m \u001b[38;5;129;01min\u001b[39;00m \u001b[43mmy_dict\u001b[49m} \n\u001b[0;32m      4\u001b[0m     \u001b[38;5;28;01mreturn\u001b[39;00m my_dict\n",
      "\u001b[1;31mNameError\u001b[0m: free variable 'my_dict' referenced before assignment in enclosing scope"
     ]
    }
   ],
   "source": [
    "print(count_word(lst))"
   ]
  },
  {
   "cell_type": "code",
   "execution_count": 18,
   "id": "3bcb264e-7165-47de-90ea-696317b2df8b",
   "metadata": {},
   "outputs": [],
   "source": [
    "def count_word_long(lst):\n",
    "    my_dict = {}\n",
    "    for word in lst:\n",
    "        if word not in my_dict:\n",
    "            my_dict[word] = lst.count(word)\n",
    "    return my_dict"
   ]
  },
  {
   "cell_type": "code",
   "execution_count": 19,
   "id": "8c27176c-d9a8-402d-a291-5ed4378c185e",
   "metadata": {},
   "outputs": [
    {
     "name": "stdout",
     "output_type": "stream",
     "text": [
      "{'gato': 3, 'elefante': 1, 'pinguino': 2}\n"
     ]
    }
   ],
   "source": [
    "print(count_word_long(lst))"
   ]
  },
  {
   "cell_type": "code",
   "execution_count": 40,
   "id": "d12c0786-73d8-4ba3-a1bb-11e309db8ed5",
   "metadata": {},
   "outputs": [
    {
     "name": "stdout",
     "output_type": "stream",
     "text": [
      "3\n"
     ]
    }
   ],
   "source": [
    "my_dict = {\"gato\":1, \"perro\":2, \"elefante\":3}\n",
    "my_dict_values = list(my_dict.values())\n",
    "counter = 0\n",
    "for val in my_dict_values:\n",
    "    if my_dict_values.count(val) == 1:\n",
    "        counter += 1\n",
    "print(counter)"
   ]
  },
  {
   "cell_type": "code",
   "execution_count": 43,
   "id": "78a0877d-9ba2-48ad-8e77-2e31ff01af4f",
   "metadata": {},
   "outputs": [
    {
     "data": {
      "text/plain": [
       "dict_values"
      ]
     },
     "execution_count": 43,
     "metadata": {},
     "output_type": "execute_result"
    }
   ],
   "source": [
    "type(my_dict.values())"
   ]
  },
  {
   "cell_type": "code",
   "execution_count": null,
   "id": "78e2c7db-da19-4c8b-a8f1-70741894a274",
   "metadata": {},
   "outputs": [],
   "source": []
  }
 ],
 "metadata": {
  "kernelspec": {
   "display_name": "Python 3 (ipykernel)",
   "language": "python",
   "name": "python3"
  },
  "language_info": {
   "codemirror_mode": {
    "name": "ipython",
    "version": 3
   },
   "file_extension": ".py",
   "mimetype": "text/x-python",
   "name": "python",
   "nbconvert_exporter": "python",
   "pygments_lexer": "ipython3",
   "version": "3.10.6"
  }
 },
 "nbformat": 4,
 "nbformat_minor": 5
}
