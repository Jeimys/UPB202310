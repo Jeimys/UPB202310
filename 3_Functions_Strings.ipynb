{
 "cells": [
  {
   "cell_type": "code",
   "execution_count": 1,
   "id": "344db219",
   "metadata": {},
   "outputs": [],
   "source": [
    "def is_in_sentence(sentence, name):\n",
    "    return name in sentence"
   ]
  },
  {
   "cell_type": "code",
   "execution_count": 2,
   "id": "74ebed2e",
   "metadata": {},
   "outputs": [
    {
     "name": "stdout",
     "output_type": "stream",
     "text": [
      "True\n"
     ]
    }
   ],
   "source": [
    "sentence = \"Andrés llega tarde a la U\"\n",
    "name = \"Andrés\"\n",
    "print(is_in_sentence(sentence, name))"
   ]
  },
  {
   "cell_type": "code",
   "execution_count": null,
   "id": "f922d6db",
   "metadata": {},
   "outputs": [],
   "source": []
  },
  {
   "cell_type": "code",
   "execution_count": 3,
   "id": "00f438fe",
   "metadata": {},
   "outputs": [],
   "source": [
    "def mid_letters(word):\n",
    "    new_word = \"\"\n",
    "    for i in range(0, len(word), 2):\n",
    "        new_word += word[i]\n",
    "    return new_word"
   ]
  },
  {
   "cell_type": "code",
   "execution_count": 4,
   "id": "419263bd",
   "metadata": {},
   "outputs": [
    {
     "name": "stdout",
     "output_type": "stream",
     "text": [
      "Mrilg\n"
     ]
    }
   ],
   "source": [
    "my_word = \"Murcielago\"\n",
    "print(mid_letters(my_word))"
   ]
  },
  {
   "cell_type": "code",
   "execution_count": 5,
   "id": "8c49a81a",
   "metadata": {},
   "outputs": [],
   "source": [
    "def mid_sentence(sentence):\n",
    "    my_word = sentence.replace(\" \", \"\")\n",
    "    return mid_letters(my_word) "
   ]
  },
  {
   "cell_type": "code",
   "execution_count": 6,
   "id": "dd3367d0",
   "metadata": {},
   "outputs": [
    {
     "name": "stdout",
     "output_type": "stream",
     "text": [
      "HknMtt\n"
     ]
    }
   ],
   "source": [
    "my_sentence = \"Hakuna Matata\"\n",
    "print(mid_sentence(my_sentence))"
   ]
  },
  {
   "cell_type": "code",
   "execution_count": 7,
   "id": "c55fc19c",
   "metadata": {},
   "outputs": [],
   "source": [
    "def inv_word(word):\n",
    "    return word[::-1]"
   ]
  },
  {
   "cell_type": "code",
   "execution_count": 8,
   "id": "9ae6ced3",
   "metadata": {},
   "outputs": [
    {
     "name": "stdout",
     "output_type": "stream",
     "text": [
      "odnuM\n"
     ]
    }
   ],
   "source": [
    "my_word = \"Mundo\"\n",
    "print(inv_word(my_word))"
   ]
  },
  {
   "cell_type": "code",
   "execution_count": 9,
   "id": "61585f5c",
   "metadata": {},
   "outputs": [],
   "source": [
    "def is_palindrome(sentence):\n",
    "    my_sentence = sentence.replace(\" \", \"\").lower()\n",
    "    my_sentence_inv = inv_word(my_sentence)\n",
    "    return my_sentence == my_sentence_inv"
   ]
  },
  {
   "cell_type": "code",
   "execution_count": 10,
   "id": "14457fed",
   "metadata": {},
   "outputs": [
    {
     "name": "stdout",
     "output_type": "stream",
     "text": [
      "True\n",
      "True\n"
     ]
    }
   ],
   "source": [
    "my_sentence = \"Anita lava la tina\"\n",
    "print(is_palindrome(my_sentence))\n",
    "my_sentence = \"Dabale arroz a la zorra el abad\"\n",
    "print(is_palindrome(my_sentence))"
   ]
  },
  {
   "cell_type": "code",
   "execution_count": null,
   "id": "b2963acc",
   "metadata": {},
   "outputs": [],
   "source": []
  }
 ],
 "metadata": {
  "kernelspec": {
   "display_name": "Python 3 (ipykernel)",
   "language": "python",
   "name": "python3"
  },
  "language_info": {
   "codemirror_mode": {
    "name": "ipython",
    "version": 3
   },
   "file_extension": ".py",
   "mimetype": "text/x-python",
   "name": "python",
   "nbconvert_exporter": "python",
   "pygments_lexer": "ipython3",
   "version": "3.9.7"
  }
 },
 "nbformat": 4,
 "nbformat_minor": 5
}
