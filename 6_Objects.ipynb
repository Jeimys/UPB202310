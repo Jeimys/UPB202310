{
 "cells": [
  {
   "cell_type": "code",
   "execution_count": 12,
   "id": "fef37f24",
   "metadata": {},
   "outputs": [],
   "source": [
    "class Salchipapa():\n",
    "    # class variable\n",
    "    type_of_food = \"Junk Food\"\n",
    "    # methods\n",
    "    def __init__(self, name, price):\n",
    "        # instance variable\n",
    "        self.name = name\n",
    "        self.price = price\n",
    "        self.ingredients = []\n",
    "    def add_ingredient(self, ingredient):\n",
    "        self.ingredients.append(ingredient)"
   ]
  },
  {
   "cell_type": "code",
   "execution_count": 13,
   "id": "b9a96ba9",
   "metadata": {},
   "outputs": [],
   "source": [
    "ranchera_sencilla = Salchipapa(\"Ranchera Sencilla\", 15000)\n",
    "ranchera_especial = Salchipapa(\"Ranchera Especial\", 20000)"
   ]
  },
  {
   "cell_type": "code",
   "execution_count": 14,
   "id": "9ca8b7de",
   "metadata": {},
   "outputs": [
    {
     "name": "stdout",
     "output_type": "stream",
     "text": [
      "[]\n"
     ]
    }
   ],
   "source": [
    "print(ranchera_sencilla.ingredients)"
   ]
  },
  {
   "cell_type": "code",
   "execution_count": 15,
   "id": "57a8e67c",
   "metadata": {},
   "outputs": [],
   "source": [
    "ranchera_sencilla.add_ingredient(\"Salchicha Ranchera\")\n",
    "ranchera_sencilla.add_ingredient(\"Papita\")\n",
    "ranchera_sencilla.add_ingredient(\"Queso\")\n",
    "ranchera_sencilla.add_ingredient(\"Salsa BBQ\")"
   ]
  },
  {
   "cell_type": "code",
   "execution_count": 8,
   "id": "1162b5b2",
   "metadata": {},
   "outputs": [
    {
     "name": "stdout",
     "output_type": "stream",
     "text": [
      "Junk Food\n",
      "Junk Food\n"
     ]
    }
   ],
   "source": [
    "print(ranchera_sencilla.type_of_food)\n",
    "print(ranchera_especial.type_of_food)"
   ]
  },
  {
   "cell_type": "code",
   "execution_count": 17,
   "id": "d0806d0e",
   "metadata": {},
   "outputs": [
    {
     "name": "stdout",
     "output_type": "stream",
     "text": [
      "['Salchicha Ranchera', 'Papita', 'Queso', 'Salsa BBQ']\n",
      "[]\n"
     ]
    }
   ],
   "source": [
    "print(ranchera_sencilla.ingredients)\n",
    "print(ranchera_especial.ingredients)"
   ]
  },
  {
   "cell_type": "code",
   "execution_count": 11,
   "id": "3b3300c5",
   "metadata": {},
   "outputs": [
    {
     "name": "stdout",
     "output_type": "stream",
     "text": [
      "Ranchera Sencilla 15000\n",
      "Ranchera Especial 20000\n"
     ]
    }
   ],
   "source": [
    "print(ranchera_sencilla.name, ranchera_sencilla.price)\n",
    "print(ranchera_especial.name, ranchera_especial.price)"
   ]
  },
  {
   "cell_type": "code",
   "execution_count": null,
   "id": "3e2fea7e",
   "metadata": {},
   "outputs": [],
   "source": []
  }
 ],
 "metadata": {
  "kernelspec": {
   "display_name": "Python 3 (ipykernel)",
   "language": "python",
   "name": "python3"
  },
  "language_info": {
   "codemirror_mode": {
    "name": "ipython",
    "version": 3
   },
   "file_extension": ".py",
   "mimetype": "text/x-python",
   "name": "python",
   "nbconvert_exporter": "python",
   "pygments_lexer": "ipython3",
   "version": "3.10.6"
  }
 },
 "nbformat": 4,
 "nbformat_minor": 5
}
