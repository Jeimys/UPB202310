{
 "cells": [
  {
   "cell_type": "code",
   "execution_count": 1,
   "id": "591996f4",
   "metadata": {},
   "outputs": [
    {
     "name": "stdout",
     "output_type": "stream",
     "text": [
      "[170, 163, 178, 165, 166, 160]\n"
     ]
    }
   ],
   "source": [
    "heights = []\n",
    "male_heights = [170, 163, 178, 165]\n",
    "female_heights = [166, 160]\n",
    "heights = male_heights + female_heights\n",
    "print(heights)"
   ]
  },
  {
   "cell_type": "code",
   "execution_count": 2,
   "id": "1ae8e285",
   "metadata": {},
   "outputs": [
    {
     "name": "stdout",
     "output_type": "stream",
     "text": [
      "[170, 163, 178, 165, 166, 160, 168]\n",
      "[168, 160, 166, 165, 178, 163, 170]\n"
     ]
    }
   ],
   "source": [
    "heights.append(168)\n",
    "print(heights)\n",
    "print(heights[::-1])"
   ]
  },
  {
   "cell_type": "code",
   "execution_count": 3,
   "id": "537b6d4a",
   "metadata": {},
   "outputs": [
    {
     "name": "stdout",
     "output_type": "stream",
     "text": [
      "168\n"
     ]
    }
   ],
   "source": [
    "last_height = heights[-1]\n",
    "print(last_height)"
   ]
  },
  {
   "cell_type": "code",
   "execution_count": 4,
   "id": "97f555d6",
   "metadata": {},
   "outputs": [
    {
     "name": "stdout",
     "output_type": "stream",
     "text": [
      "7\n"
     ]
    }
   ],
   "source": [
    "n_heights = len(heights)\n",
    "print(n_heights)"
   ]
  },
  {
   "cell_type": "code",
   "execution_count": 5,
   "id": "4dd84853",
   "metadata": {},
   "outputs": [
    {
     "name": "stdout",
     "output_type": "stream",
     "text": [
      "[0, 1, 2, 3, 4, 5, 6]\n"
     ]
    }
   ],
   "source": [
    "range_a = range(n_heights)\n",
    "print(list(range_a))"
   ]
  },
  {
   "cell_type": "code",
   "execution_count": 6,
   "id": "388e08f2",
   "metadata": {},
   "outputs": [
    {
     "name": "stdout",
     "output_type": "stream",
     "text": [
      "[2, 3, 4, 5, 6, 7, 8, 9, 10, 11, 12, 13, 14, 15]\n"
     ]
    }
   ],
   "source": [
    "range_b = range(2, 16)\n",
    "print(list(range_b))"
   ]
  },
  {
   "cell_type": "code",
   "execution_count": 7,
   "id": "40c885e8",
   "metadata": {},
   "outputs": [
    {
     "name": "stdout",
     "output_type": "stream",
     "text": [
      "[5, 1, -3, -7]\n"
     ]
    }
   ],
   "source": [
    "range_c = range(5, -10, -4)\n",
    "print(list(range_c))"
   ]
  },
  {
   "cell_type": "code",
   "execution_count": 8,
   "id": "eac087bc",
   "metadata": {},
   "outputs": [
    {
     "name": "stdout",
     "output_type": "stream",
     "text": [
      "[('Salchipapa', 20000), ('Pizza', 7000), ('Hamburguesa', 20000), ('Hot Dog', 2500)]\n"
     ]
    }
   ],
   "source": [
    "fast_foods = [\"Salchipapa\", \"Pizza\", \"Hamburguesa\", \"Hot Dog\"]\n",
    "prices = [20000, 7000, 20000, 2500]\n",
    "food_prices = list(zip(fast_foods, prices))\n",
    "print(food_prices)"
   ]
  },
  {
   "cell_type": "code",
   "execution_count": 9,
   "id": "c9dbd99e",
   "metadata": {},
   "outputs": [
    {
     "name": "stdout",
     "output_type": "stream",
     "text": [
      "20000\n"
     ]
    }
   ],
   "source": [
    "print(food_prices[0][1])"
   ]
  },
  {
   "cell_type": "code",
   "execution_count": 10,
   "id": "9b5b6a8b",
   "metadata": {},
   "outputs": [
    {
     "name": "stdout",
     "output_type": "stream",
     "text": [
      "Garavito\n",
      "Santana\n",
      "Joshua\n",
      "Zabala\n",
      "Juan Pablo\n"
     ]
    }
   ],
   "source": [
    "names = ['Garavito', 'Santana', 'Joshua', 'Zabala', 'Juan Pablo']\n",
    "for name in names:\n",
    "    print(name)"
   ]
  },
  {
   "cell_type": "code",
   "execution_count": 11,
   "id": "8e0ec192",
   "metadata": {},
   "outputs": [
    {
     "name": "stdout",
     "output_type": "stream",
     "text": [
      "Garavito\n",
      "Santana\n",
      "Joshua\n",
      "Zabala\n",
      "Juan Pablo\n"
     ]
    }
   ],
   "source": [
    "for i in range(len(names)):\n",
    "    print(names[i])"
   ]
  },
  {
   "cell_type": "code",
   "execution_count": 12,
   "id": "8e835c39",
   "metadata": {},
   "outputs": [
    {
     "name": "stdout",
     "output_type": "stream",
     "text": [
      "5\n",
      "6\n",
      "7\n",
      "8\n",
      "9\n",
      "10\n",
      "11\n",
      "12\n",
      "13\n",
      "14\n"
     ]
    }
   ],
   "source": [
    "counter = 5\n",
    "while counter < 15:\n",
    "    print(counter)\n",
    "    counter += 1"
   ]
  },
  {
   "cell_type": "code",
   "execution_count": 13,
   "id": "175736c0",
   "metadata": {},
   "outputs": [
    {
     "name": "stdout",
     "output_type": "stream",
     "text": [
      "[-8, 4, 1, -17, 25, 40, -29, -5]\n"
     ]
    }
   ],
   "source": [
    "m = 3\n",
    "b = -5\n",
    "x = [-1, 3, 2, -4, 10, 15, -8, 0]\n",
    "# y = mx + b\n",
    "y = [m*xi + b for xi in x]\n",
    "print(y)"
   ]
  },
  {
   "cell_type": "code",
   "execution_count": 14,
   "id": "3332554e",
   "metadata": {},
   "outputs": [
    {
     "name": "stdout",
     "output_type": "stream",
     "text": [
      "La lista con el número mayor es la lista B\n"
     ]
    }
   ],
   "source": [
    "A = [1, 3, 5, 18]\n",
    "B = [4, -1, 100]\n",
    "max_A = 0\n",
    "max_B = 0\n",
    "for a in A:\n",
    "    if a > max_A:\n",
    "        max_A = a\n",
    "for b in B:\n",
    "    if b > max_B:\n",
    "        max_B = b\n",
    "if max_A > max_B:\n",
    "    print(\"La lista con el número mayor es la lista A\")\n",
    "else:\n",
    "    print(\"La lista con el número mayor es la lista B\")"
   ]
  },
  {
   "cell_type": "code",
   "execution_count": 15,
   "id": "ea857425",
   "metadata": {},
   "outputs": [
    {
     "name": "stdout",
     "output_type": "stream",
     "text": [
      "¿Cuántos datos hay en la lista A?: \n",
      "10\n",
      "Ingrese el valor 1 de la lista: 1\n",
      "Ingrese el valor 2 de la lista: 7\n",
      "Ingrese el valor 3 de la lista: 3\n",
      "Ingrese el valor 4 de la lista: 90\n",
      "Ingrese el valor 5 de la lista: 5\n",
      "Ingrese el valor 6 de la lista: 6\n",
      "Ingrese el valor 7 de la lista: 2\n",
      "Ingrese el valor 8 de la lista: 6\n",
      "Ingrese el valor 9 de la lista: 8\n",
      "Ingrese el valor 10 de la lista: 13\n",
      "Lista A: [1, 7, 3, 90, 5, 6, 2, 6, 8, 13]\n",
      "¿Cuántos datos hay en la lista B?: \n",
      "5\n",
      "Ingrese el valor 1 de la lista: 1\n",
      "Ingrese el valor 2 de la lista: 5\n",
      "Ingrese el valor 3 de la lista: 67\n",
      "Ingrese el valor 4 de la lista: 1\n",
      "Ingrese el valor 5 de la lista: 2\n",
      "Lista B: [1, 5, 67, 1, 2]\n",
      "La lista con el número mayor es la lista A\n"
     ]
    }
   ],
   "source": [
    "n_A = int(input(\"¿Cuántos datos hay en la lista A?: \\n\"))\n",
    "A = []\n",
    "for i in range(n_A):\n",
    "    A.append(int(input(\"Ingrese el valor \" + str(i + 1) + \" de la lista: \")))\n",
    "print(\"Lista A: \" + str(A))\n",
    "\n",
    "n_B = int(input(\"¿Cuántos datos hay en la lista B?: \\n\"))\n",
    "B = []\n",
    "for i in range(n_B):\n",
    "    B.append(int(input(\"Ingrese el valor \" + str(i + 1) + \" de la lista: \")))\n",
    "print(\"Lista B: \" + str(B))\n",
    "\n",
    "max_A = 0\n",
    "max_B = 0\n",
    "for a in A:\n",
    "    if a > max_A:\n",
    "        max_A = a\n",
    "for b in B:\n",
    "    if b > max_B:\n",
    "        max_B = b\n",
    "if max_A > max_B:\n",
    "    print(\"La lista con el número mayor es la lista A\")\n",
    "else:\n",
    "    print(\"La lista con el número mayor es la lista B\")"
   ]
  },
  {
   "cell_type": "code",
   "execution_count": null,
   "id": "687bd5c0",
   "metadata": {},
   "outputs": [],
   "source": []
  },
  {
   "cell_type": "code",
   "execution_count": null,
   "id": "b77d9c75",
   "metadata": {},
   "outputs": [],
   "source": []
  },
  {
   "cell_type": "code",
   "execution_count": null,
   "id": "efed9c87",
   "metadata": {},
   "outputs": [],
   "source": []
  },
  {
   "cell_type": "code",
   "execution_count": 16,
   "id": "350928bf",
   "metadata": {},
   "outputs": [
    {
     "name": "stdout",
     "output_type": "stream",
     "text": [
      "How many students?: 3\n",
      "Name: John\n",
      "Score: 1\n",
      "Name: Albert\n",
      "Score: 2\n",
      "Name: Einstein\n",
      "Score: 3\n",
      "Second lowest score: Albert\n"
     ]
    }
   ],
   "source": [
    "if __name__ == '__main__':\n",
    "    names = []\n",
    "    scores = []\n",
    "    for _ in range(int(input(\"How many students?: \"))):\n",
    "        name = input(\"Name: \")\n",
    "        score = float(input(\"Score: \"))\n",
    "        names.append(name)\n",
    "        scores.append(score)\n",
    "        \n",
    "name_score = []\n",
    "\n",
    "for i in range(len(names)):\n",
    "    name_score.append([names[i], scores[i]])\n",
    "\n",
    "scores.sort()    \n",
    "\n",
    "min_points = min(scores)\n",
    "second_score_index = 0\n",
    "for score in scores:\n",
    "    if score == min_points:\n",
    "        second_score_index += 1\n",
    "\n",
    "second_names = []\n",
    "for pair in name_score:\n",
    "    if pair[1] == scores[second_score_index]:\n",
    "        second_names.append(pair[0])\n",
    "\n",
    "second_names.sort()\n",
    "for name in second_names:\n",
    "    print(f'Second lowest score: {name}')"
   ]
  },
  {
   "cell_type": "code",
   "execution_count": null,
   "id": "bba54bf6",
   "metadata": {},
   "outputs": [],
   "source": []
  }
 ],
 "metadata": {
  "kernelspec": {
   "display_name": "Python 3 (ipykernel)",
   "language": "python",
   "name": "python3"
  },
  "language_info": {
   "codemirror_mode": {
    "name": "ipython",
    "version": 3
   },
   "file_extension": ".py",
   "mimetype": "text/x-python",
   "name": "python",
   "nbconvert_exporter": "python",
   "pygments_lexer": "ipython3",
   "version": "3.9.7"
  }
 },
 "nbformat": 4,
 "nbformat_minor": 5
}
