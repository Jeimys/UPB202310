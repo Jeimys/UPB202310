{
 "cells": [
  {
   "cell_type": "code",
   "execution_count": 1,
   "id": "dfce6d89",
   "metadata": {},
   "outputs": [
    {
     "name": "stdout",
     "output_type": "stream",
     "text": [
      "{'brand': 'Honda', 'model': 'CB', 'year': '2020', 'price': '4000000'}\n",
      "{'brand': 'Yamaha', 'model': 'R1', 'year': '2023', 'price': '80000000'}\n",
      "{'brand': 'KTM', 'model': 'Duke 200', 'year': '2023', 'price': '17000000'}\n"
     ]
    }
   ],
   "source": [
    "import csv\n",
    "\n",
    "with open(\"moto_data.csv\", newline='') as moto_data_csv:\n",
    "    moto_reader = csv.DictReader(moto_data_csv, delimiter=';')\n",
    "    for row in moto_reader:\n",
    "        print(row)"
   ]
  },
  {
   "cell_type": "code",
   "execution_count": 10,
   "id": "1051daa1",
   "metadata": {},
   "outputs": [],
   "source": [
    "prices = []\n",
    "\n",
    "with open(\"moto_data.csv\", newline='') as moto_data_csv:\n",
    "    moto_reader = csv.DictReader(moto_data_csv, delimiter=';')\n",
    "    for row in moto_reader:\n",
    "        prices.append(float(row['price']))\n",
    "        \n",
    "mean_price = sum(prices)/len(prices)\n",
    "min_price = min(prices)\n",
    "max_price = max(prices)\n",
    "range_price = max_price - min_price"
   ]
  },
  {
   "cell_type": "code",
   "execution_count": 12,
   "id": "10ec4f27",
   "metadata": {},
   "outputs": [
    {
     "name": "stdout",
     "output_type": "stream",
     "text": [
      "My Analysis:\n",
      "Moto Mean Price: $ 33666666.666666664\n",
      "Moto Min Price: $ 4000000.0\n",
      "Moto Max Price: $ 80000000.0\n",
      "Range Price: $ 76000000.0\n",
      "\n"
     ]
    }
   ],
   "source": [
    "my_analysis = f\"\"\"My Analysis:\n",
    "Moto Mean Price: $ {mean_price}\n",
    "Moto Min Price: $ {min_price}\n",
    "Moto Max Price: $ {max_price}\n",
    "Range Price: $ {range_price}\n",
    "\"\"\"\n",
    "print(my_analysis)"
   ]
  },
  {
   "cell_type": "code",
   "execution_count": 13,
   "id": "9ce94387",
   "metadata": {},
   "outputs": [],
   "source": [
    "with open(\"moto_data_analysis.txt\", 'w') as moto_analysis:\n",
    "    moto_analysis.write(my_analysis)"
   ]
  },
  {
   "cell_type": "code",
   "execution_count": 24,
   "id": "02aea912",
   "metadata": {},
   "outputs": [],
   "source": [
    "with open(\"moto_data.csv\", \"a\", newline='') as moto_data:\n",
    "    fields = ['brand', 'model', 'year', 'price']\n",
    "    out_writer = csv.DictWriter(moto_data, fieldnames=fields)\n",
    "    out_writer.writerow({'brand': 'BMW', 'model': 'S1000R', 'year': '2023', 'price': '103000000'})   "
   ]
  },
  {
   "cell_type": "code",
   "execution_count": null,
   "id": "f16673dd",
   "metadata": {},
   "outputs": [],
   "source": []
  },
  {
   "cell_type": "code",
   "execution_count": null,
   "id": "5dd0b887",
   "metadata": {},
   "outputs": [],
   "source": []
  },
  {
   "cell_type": "code",
   "execution_count": null,
   "id": "6fb46612",
   "metadata": {},
   "outputs": [],
   "source": []
  },
  {
   "cell_type": "code",
   "execution_count": null,
   "id": "3e6d4247",
   "metadata": {},
   "outputs": [],
   "source": []
  },
  {
   "cell_type": "code",
   "execution_count": null,
   "id": "d9348502",
   "metadata": {},
   "outputs": [],
   "source": []
  },
  {
   "cell_type": "code",
   "execution_count": null,
   "id": "64b1cfe5",
   "metadata": {},
   "outputs": [],
   "source": []
  }
 ],
 "metadata": {
  "kernelspec": {
   "display_name": "Python 3 (ipykernel)",
   "language": "python",
   "name": "python3"
  },
  "language_info": {
   "codemirror_mode": {
    "name": "ipython",
    "version": 3
   },
   "file_extension": ".py",
   "mimetype": "text/x-python",
   "name": "python",
   "nbconvert_exporter": "python",
   "pygments_lexer": "ipython3",
   "version": "3.10.6"
  }
 },
 "nbformat": 4,
 "nbformat_minor": 5
}
