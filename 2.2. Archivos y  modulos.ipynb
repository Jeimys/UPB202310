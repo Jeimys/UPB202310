{
 "cells": [
  {
   "cell_type": "markdown",
   "id": "2384e86e",
   "metadata": {},
   "source": [
    "### Namespaces"
   ]
  },
  {
   "cell_type": "code",
   "execution_count": 1,
   "id": "85dc84a0",
   "metadata": {},
   "outputs": [
    {
     "name": "stdout",
     "output_type": "stream",
     "text": [
      "28.274333882308138\n"
     ]
    }
   ],
   "source": [
    "import numpy as np\n",
    "radius = 3\n",
    "print(np.pi * radius **2)\n"
   ]
  },
  {
   "cell_type": "code",
   "execution_count": null,
   "id": "374e9600",
   "metadata": {},
   "outputs": [],
   "source": []
  },
  {
   "cell_type": "markdown",
   "id": "80cd5143",
   "metadata": {},
   "source": [
    "### Módulos"
   ]
  },
  {
   "cell_type": "code",
   "execution_count": 1,
   "id": "3a669977",
   "metadata": {},
   "outputs": [
    {
     "name": "stdout",
     "output_type": "stream",
     "text": [
      "2023-03-01 15:17:47.459713\n"
     ]
    }
   ],
   "source": [
    "from datetime import datetime\n",
    "current_time = datetime.now()\n",
    "print(current_time)"
   ]
  },
  {
   "cell_type": "code",
   "execution_count": null,
   "id": "a09e7db9",
   "metadata": {},
   "outputs": [],
   "source": []
  },
  {
   "cell_type": "code",
   "execution_count": 9,
   "id": "28f30b5f",
   "metadata": {},
   "outputs": [
    {
     "name": "stdout",
     "output_type": "stream",
     "text": [
      "[-4, -75, -90, 54, -94, -79, 81, 90, -20, 5]\n",
      "90\n",
      "[-94]\n",
      "[-4, 81, -75, 90, -90]\n"
     ]
    }
   ],
   "source": [
    "import random\n",
    "random_numbers = []\n",
    "for i in range(10):\n",
    "    random_numbers.append(random.randint(-100, 100)) # se generan numeros aleatorios entre -100 y 100\n",
    "print(random_numbers)\n",
    "\n",
    "random_choice = random.choice(random_numbers) # devuelve un valor aleatorio de random_numbers\n",
    "print(random_choice)\n",
    "random_choices = random.choices(random_numbers) # lo devuelve en tipo lista\n",
    "print(random_choices)\n",
    "\n",
    "sample = random.sample(random_numbers, 5)  # devuelve una lista aleatoria de 5 elementos de random_numbers\n",
    "print(sample)"
   ]
  },
  {
   "cell_type": "code",
   "execution_count": null,
   "id": "fee65d4a",
   "metadata": {},
   "outputs": [],
   "source": []
  },
  {
   "cell_type": "raw",
   "id": "328bf628",
   "metadata": {},
   "source": []
  },
  {
   "cell_type": "code",
   "execution_count": 3,
   "id": "6828fc28",
   "metadata": {},
   "outputs": [],
   "source": [
    "import csv\n",
    "\n",
    "\n",
    "prices = []\n",
    "\n",
    "with open('moto_data.csv', newline='') as moto_data_csv:\n",
    "    moto_reader = csv.DictReader(moto_data_csv, delimiter='#')\n",
    "    for row in moto_reader:\n",
    "        print(row)\n",
    "        "
   ]
  },
  {
   "cell_type": "code",
   "execution_count": null,
   "id": "7c6650f7",
   "metadata": {},
   "outputs": [],
   "source": []
  },
  {
   "cell_type": "code",
   "execution_count": 1,
   "id": "69ed80c8",
   "metadata": {},
   "outputs": [
    {
     "name": "stdout",
     "output_type": "stream",
     "text": [
      "This is my song\n",
      "2 and 2 are 4\n",
      "4 and 4 are 8\n",
      "And so on...\n"
     ]
    }
   ],
   "source": [
    "song = \"This is my song\"\n",
    "for i in range(2,5,2):\n",
    "    song += f'\\n{i} and {i} are {i + i}'\n",
    "song += '\\nAnd so on...'\n",
    "print(song)\n",
    "\n",
    "with open('my_math_song.txt', 'w') as gen_file:\n",
    "    gen_file.write(song)\n",
    "    \n",
    "    "
   ]
  },
  {
   "cell_type": "code",
   "execution_count": 3,
   "id": "2ad98e00",
   "metadata": {},
   "outputs": [
    {
     "name": "stdout",
     "output_type": "stream",
     "text": [
      "This is my song\n",
      "2 and 2 are 4\n",
      "4 and 4 are 8\n",
      "And so on...\n"
     ]
    }
   ],
   "source": [
    "with open('my_math_song.txt', 'r') as gen_file:\n",
    "    poema = gen_file.read()\n",
    "    \n",
    "print(poema)\n",
    "    "
   ]
  },
  {
   "cell_type": "code",
   "execution_count": 5,
   "id": "a60a0382",
   "metadata": {},
   "outputs": [],
   "source": [
    "new_line = \"\\nUntil it starts again...\"\n",
    "with open('my_math_song.txt', 'a') as gen_file:\n",
    "    gen_file.write(new_line)"
   ]
  },
  {
   "cell_type": "code",
   "execution_count": 6,
   "id": "2f1329ab",
   "metadata": {},
   "outputs": [
    {
     "name": "stdout",
     "output_type": "stream",
     "text": [
      "This is my song\n",
      "2 and 2 are 4\n",
      "4 and 4 are 8\n",
      "And so on...\n",
      "Until it starts again...\n"
     ]
    }
   ],
   "source": [
    "with open('my_math_song.txt', 'r') as gen_file:\n",
    "    poema = gen_file.read()\n",
    "    \n",
    "print(poema)"
   ]
  },
  {
   "cell_type": "code",
   "execution_count": null,
   "id": "8c16a040",
   "metadata": {},
   "outputs": [],
   "source": []
  },
  {
   "cell_type": "code",
   "execution_count": null,
   "id": "eb29182c",
   "metadata": {},
   "outputs": [],
   "source": []
  },
  {
   "cell_type": "code",
   "execution_count": null,
   "id": "1b6aa85a",
   "metadata": {},
   "outputs": [],
   "source": []
  },
  {
   "cell_type": "code",
   "execution_count": null,
   "id": "5702a342",
   "metadata": {},
   "outputs": [],
   "source": []
  },
  {
   "cell_type": "code",
   "execution_count": null,
   "id": "8353f7ad",
   "metadata": {},
   "outputs": [],
   "source": []
  }
 ],
 "metadata": {
  "kernelspec": {
   "display_name": "Python 3 (ipykernel)",
   "language": "python",
   "name": "python3"
  },
  "language_info": {
   "codemirror_mode": {
    "name": "ipython",
    "version": 3
   },
   "file_extension": ".py",
   "mimetype": "text/x-python",
   "name": "python",
   "nbconvert_exporter": "python",
   "pygments_lexer": "ipython3",
   "version": "3.9.7"
  }
 },
 "nbformat": 4,
 "nbformat_minor": 5
}
