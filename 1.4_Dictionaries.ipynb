{
 "cells": [
  {
   "cell_type": "code",
   "execution_count": 1,
   "id": "a20df77c",
   "metadata": {},
   "outputs": [],
   "source": [
    "lst = [\"gato\", \"elefante\", \"pinguino\"]"
   ]
  },
  {
   "cell_type": "code",
   "execution_count": 2,
   "id": "18734232",
   "metadata": {},
   "outputs": [],
   "source": [
    "def word_length(lst):\n",
    "    return {word:len(word) for word in lst}"
   ]
  },
  {
   "cell_type": "code",
   "execution_count": 3,
   "id": "c6cab7b8",
   "metadata": {},
   "outputs": [
    {
     "name": "stdout",
     "output_type": "stream",
     "text": [
      "{'gato': 4, 'elefante': 8, 'pinguino': 8}\n"
     ]
    }
   ],
   "source": [
    "print(word_length(lst))"
   ]
  },
  {
   "cell_type": "code",
   "execution_count": 4,
   "id": "a63d86ac",
   "metadata": {},
   "outputs": [],
   "source": [
    "def word_length_long(lst):\n",
    "    my_dict = {}\n",
    "    for element in lst:\n",
    "        my_dict[element] = len(element)\n",
    "    return my_dict"
   ]
  },
  {
   "cell_type": "code",
   "execution_count": 5,
   "id": "5cab8d22",
   "metadata": {},
   "outputs": [
    {
     "name": "stdout",
     "output_type": "stream",
     "text": [
      "{'gato': 4, 'elefante': 8, 'pinguino': 8}\n"
     ]
    }
   ],
   "source": [
    "print(word_length_long(lst))"
   ]
  },
  {
   "cell_type": "code",
   "execution_count": 6,
   "id": "5ed9788f",
   "metadata": {},
   "outputs": [],
   "source": [
    "# Nope... recursivity\n",
    "def count_word(lst):\n",
    "    my_dict = {word:lst.count(word) for word in lst if word not in my_dict} \n",
    "    return my_dict"
   ]
  },
  {
   "cell_type": "code",
   "execution_count": 7,
   "id": "eb7cf0d1",
   "metadata": {},
   "outputs": [],
   "source": [
    "lst = [\"gato\", \"elefante\", \"pinguino\", \"gato\", \"gato\", \"pinguino\"]\n",
    "# print(\"ok\" if \"perro\" not in lst  else \"Not ok\")"
   ]
  },
  {
   "cell_type": "code",
   "execution_count": 8,
   "id": "2af05872",
   "metadata": {},
   "outputs": [
    {
     "ename": "NameError",
     "evalue": "free variable 'my_dict' referenced before assignment in enclosing scope",
     "output_type": "error",
     "traceback": [
      "\u001b[1;31m---------------------------------------------------------------------------\u001b[0m",
      "\u001b[1;31mNameError\u001b[0m                                 Traceback (most recent call last)",
      "\u001b[1;32mC:\\Users\\JESIDP~1\\AppData\\Local\\Temp/ipykernel_9196/3037642738.py\u001b[0m in \u001b[0;36m<module>\u001b[1;34m\u001b[0m\n\u001b[1;32m----> 1\u001b[1;33m \u001b[0mprint\u001b[0m\u001b[1;33m(\u001b[0m\u001b[0mcount_word\u001b[0m\u001b[1;33m(\u001b[0m\u001b[0mlst\u001b[0m\u001b[1;33m)\u001b[0m\u001b[1;33m)\u001b[0m\u001b[1;33m\u001b[0m\u001b[1;33m\u001b[0m\u001b[0m\n\u001b[0m",
      "\u001b[1;32mC:\\Users\\JESIDP~1\\AppData\\Local\\Temp/ipykernel_9196/511073178.py\u001b[0m in \u001b[0;36mcount_word\u001b[1;34m(lst)\u001b[0m\n\u001b[0;32m      1\u001b[0m \u001b[1;31m# Nope... recursivity\u001b[0m\u001b[1;33m\u001b[0m\u001b[1;33m\u001b[0m\u001b[0m\n\u001b[0;32m      2\u001b[0m \u001b[1;32mdef\u001b[0m \u001b[0mcount_word\u001b[0m\u001b[1;33m(\u001b[0m\u001b[0mlst\u001b[0m\u001b[1;33m)\u001b[0m\u001b[1;33m:\u001b[0m\u001b[1;33m\u001b[0m\u001b[1;33m\u001b[0m\u001b[0m\n\u001b[1;32m----> 3\u001b[1;33m     \u001b[0mmy_dict\u001b[0m \u001b[1;33m=\u001b[0m \u001b[1;33m{\u001b[0m\u001b[0mword\u001b[0m\u001b[1;33m:\u001b[0m\u001b[0mlst\u001b[0m\u001b[1;33m.\u001b[0m\u001b[0mcount\u001b[0m\u001b[1;33m(\u001b[0m\u001b[0mword\u001b[0m\u001b[1;33m)\u001b[0m \u001b[1;32mfor\u001b[0m \u001b[0mword\u001b[0m \u001b[1;32min\u001b[0m \u001b[0mlst\u001b[0m \u001b[1;32mif\u001b[0m \u001b[0mword\u001b[0m \u001b[1;32mnot\u001b[0m \u001b[1;32min\u001b[0m \u001b[0mmy_dict\u001b[0m\u001b[1;33m}\u001b[0m\u001b[1;33m\u001b[0m\u001b[1;33m\u001b[0m\u001b[0m\n\u001b[0m\u001b[0;32m      4\u001b[0m     \u001b[1;32mreturn\u001b[0m \u001b[0mmy_dict\u001b[0m\u001b[1;33m\u001b[0m\u001b[1;33m\u001b[0m\u001b[0m\n",
      "\u001b[1;32mC:\\Users\\JESIDP~1\\AppData\\Local\\Temp/ipykernel_9196/511073178.py\u001b[0m in \u001b[0;36m<dictcomp>\u001b[1;34m(.0)\u001b[0m\n\u001b[0;32m      1\u001b[0m \u001b[1;31m# Nope... recursivity\u001b[0m\u001b[1;33m\u001b[0m\u001b[1;33m\u001b[0m\u001b[0m\n\u001b[0;32m      2\u001b[0m \u001b[1;32mdef\u001b[0m \u001b[0mcount_word\u001b[0m\u001b[1;33m(\u001b[0m\u001b[0mlst\u001b[0m\u001b[1;33m)\u001b[0m\u001b[1;33m:\u001b[0m\u001b[1;33m\u001b[0m\u001b[1;33m\u001b[0m\u001b[0m\n\u001b[1;32m----> 3\u001b[1;33m     \u001b[0mmy_dict\u001b[0m \u001b[1;33m=\u001b[0m \u001b[1;33m{\u001b[0m\u001b[0mword\u001b[0m\u001b[1;33m:\u001b[0m\u001b[0mlst\u001b[0m\u001b[1;33m.\u001b[0m\u001b[0mcount\u001b[0m\u001b[1;33m(\u001b[0m\u001b[0mword\u001b[0m\u001b[1;33m)\u001b[0m \u001b[1;32mfor\u001b[0m \u001b[0mword\u001b[0m \u001b[1;32min\u001b[0m \u001b[0mlst\u001b[0m \u001b[1;32mif\u001b[0m \u001b[0mword\u001b[0m \u001b[1;32mnot\u001b[0m \u001b[1;32min\u001b[0m \u001b[0mmy_dict\u001b[0m\u001b[1;33m}\u001b[0m\u001b[1;33m\u001b[0m\u001b[1;33m\u001b[0m\u001b[0m\n\u001b[0m\u001b[0;32m      4\u001b[0m     \u001b[1;32mreturn\u001b[0m \u001b[0mmy_dict\u001b[0m\u001b[1;33m\u001b[0m\u001b[1;33m\u001b[0m\u001b[0m\n",
      "\u001b[1;31mNameError\u001b[0m: free variable 'my_dict' referenced before assignment in enclosing scope"
     ]
    }
   ],
   "source": [
    "print(count_word(lst))"
   ]
  },
  {
   "cell_type": "code",
   "execution_count": 9,
   "id": "4de7ced3",
   "metadata": {},
   "outputs": [],
   "source": [
    "def count_word_long(lst):\n",
    "    my_dict = {}\n",
    "    for word in lst:\n",
    "        if word not in my_dict:\n",
    "            my_dict[word] = lst.count(word)\n",
    "    return my_dict"
   ]
  },
  {
   "cell_type": "code",
   "execution_count": 10,
   "id": "f1e72a55",
   "metadata": {},
   "outputs": [
    {
     "name": "stdout",
     "output_type": "stream",
     "text": [
      "{'gato': 3, 'elefante': 1, 'pinguino': 2}\n"
     ]
    }
   ],
   "source": [
    "print(count_word_long(lst))"
   ]
  },
  {
   "cell_type": "code",
   "execution_count": 11,
   "id": "7dc5112a",
   "metadata": {},
   "outputs": [
    {
     "name": "stdout",
     "output_type": "stream",
     "text": [
      "3\n"
     ]
    }
   ],
   "source": [
    "my_dict = {\"gato\":1, \"perro\":2, \"elefante\":3}\n",
    "my_dict_values = list(my_dict.values())\n",
    "counter = 0\n",
    "for val in my_dict_values:\n",
    "    if my_dict_values.count(val) == 1:\n",
    "        counter += 1\n",
    "print(counter)"
   ]
  },
  {
   "cell_type": "code",
   "execution_count": 12,
   "id": "1f404b67",
   "metadata": {},
   "outputs": [
    {
     "data": {
      "text/plain": [
       "dict_values"
      ]
     },
     "execution_count": 12,
     "metadata": {},
     "output_type": "execute_result"
    }
   ],
   "source": [
    "type(my_dict.values())"
   ]
  },
  {
   "cell_type": "code",
   "execution_count": null,
   "id": "4ff9af8d",
   "metadata": {},
   "outputs": [],
   "source": []
  }
 ],
 "metadata": {
  "kernelspec": {
   "display_name": "Python 3 (ipykernel)",
   "language": "python",
   "name": "python3"
  },
  "language_info": {
   "codemirror_mode": {
    "name": "ipython",
    "version": 3
   },
   "file_extension": ".py",
   "mimetype": "text/x-python",
   "name": "python",
   "nbconvert_exporter": "python",
   "pygments_lexer": "ipython3",
   "version": "3.9.7"
  }
 },
 "nbformat": 4,
 "nbformat_minor": 5
}
