{
 "cells": [
  {
   "cell_type": "code",
   "execution_count": 1,
   "id": "ffd71824",
   "metadata": {},
   "outputs": [],
   "source": [
    "import pandas as pd"
   ]
  },
  {
   "cell_type": "code",
   "execution_count": 3,
   "id": "f1336967",
   "metadata": {},
   "outputs": [
    {
     "name": "stdout",
     "output_type": "stream",
     "text": [
      "show_id         object\n",
      "type            object\n",
      "title           object\n",
      "director        object\n",
      "cast            object\n",
      "country         object\n",
      "date_added      object\n",
      "release_year     int64\n",
      "rating          object\n",
      "duration        object\n",
      "listed_in       object\n",
      "description     object\n",
      "dtype: object\n"
     ]
    }
   ],
   "source": [
    "movies = pd.read_csv('netflix_titles.csv')\n",
    "print(movies.dtypes) # mostrar tipo de dato"
   ]
  },
  {
   "cell_type": "code",
   "execution_count": 5,
   "id": "8610a9cd",
   "metadata": {},
   "outputs": [
    {
     "name": "stdout",
     "output_type": "stream",
     "text": [
      "show_id         object\n",
      "type            string\n",
      "title           string\n",
      "director        string\n",
      "cast            string\n",
      "country         object\n",
      "date_added      object\n",
      "release_year     int64\n",
      "rating          object\n",
      "duration        object\n",
      "listed_in       object\n",
      "description     object\n",
      "dtype: object\n"
     ]
    }
   ],
   "source": [
    "# cambiar el tipo de dato\n",
    "movies.type = movies.type.astype('string')\n",
    "movies.title = movies.title.astype('string')\n",
    "movies.director = movies.director.astype('string')\n",
    "movies.cast = movies.cast.astype('string')\n",
    "print(movies.dtypes)"
   ]
  },
  {
   "cell_type": "code",
   "execution_count": 6,
   "id": "d77881d8",
   "metadata": {},
   "outputs": [
    {
     "name": "stdout",
     "output_type": "stream",
     "text": [
      "['PG-13' 'TV-MA' 'PG' 'TV-14' 'TV-PG' 'TV-Y' 'TV-Y7' 'R' 'TV-G' 'G'\n",
      " 'NC-17' '74 min' '84 min' '66 min' 'NR' nan 'TV-Y7-FV' 'UR']\n"
     ]
    }
   ],
   "source": [
    "print(movies.rating.unique())"
   ]
  },
  {
   "cell_type": "code",
   "execution_count": 8,
   "id": "63d21827",
   "metadata": {},
   "outputs": [
    {
     "name": "stdout",
     "output_type": "stream",
     "text": [
      "['PG-13', 'TV-MA', 'PG', 'TV-14', 'TV-PG', ..., '84 min', '66 min', 'NR', 'TV-Y7-FV', 'UR']\n",
      "Length: 17\n",
      "Categories (16, object): ['UR' < 'NR' < 'TV-Y' < 'TV-Y7' ... 'PG-13' < '74 min' < '84 min' < '66 min']\n"
     ]
    }
   ],
   "source": [
    "movies.rating = pd.Categorical(movies.rating, ['UR', 'NR', 'TV-Y', 'TV-Y7', 'TV-Y7-FV', 'TV-G', 'TV-PG', 'TV-14', 'TV-MA', 'R', 'G', 'PG', 'PG-13', '74 min', '84 min', '66 min'], ordered = True)\n",
    "print(movies.rating.unique())"
   ]
  },
  {
   "cell_type": "code",
   "execution_count": 10,
   "id": "5f2d3c2d",
   "metadata": {},
   "outputs": [
    {
     "name": "stdout",
     "output_type": "stream",
     "text": [
      "[12  8 11  7  6  2  3  9  5 10 -1 13 14 15  1  4  0]\n"
     ]
    }
   ],
   "source": [
    "movies['rating_codes'] = movies['rating'].cat.codes\n",
    "print(movies.rating_codes.unique())"
   ]
  },
  {
   "cell_type": "code",
   "execution_count": null,
   "id": "4513147a",
   "metadata": {},
   "outputs": [],
   "source": []
  }
 ],
 "metadata": {
  "kernelspec": {
   "display_name": "Python 3 (ipykernel)",
   "language": "python",
   "name": "python3"
  },
  "language_info": {
   "codemirror_mode": {
    "name": "ipython",
    "version": 3
   },
   "file_extension": ".py",
   "mimetype": "text/x-python",
   "name": "python",
   "nbconvert_exporter": "python",
   "pygments_lexer": "ipython3",
   "version": "3.9.7"
  }
 },
 "nbformat": 4,
 "nbformat_minor": 5
}
