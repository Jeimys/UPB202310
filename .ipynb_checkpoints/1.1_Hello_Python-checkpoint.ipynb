{
 "cells": [
  {
   "cell_type": "markdown",
   "id": "e14e4b60",
   "metadata": {},
   "source": [
    "## Introducción a Python"
   ]
  },
  {
   "cell_type": "code",
   "execution_count": 1,
   "id": "377b0371",
   "metadata": {},
   "outputs": [],
   "source": [
    "# Los comentarios se colocan con #"
   ]
  },
  {
   "cell_type": "code",
   "execution_count": 2,
   "id": "41e51b2c",
   "metadata": {},
   "outputs": [
    {
     "name": "stdout",
     "output_type": "stream",
     "text": [
      "My name is Miguel\n",
      "I am 31 years old.\n"
     ]
    }
   ],
   "source": [
    "name = \"Miguel\"\n",
    "print(\"My name is \" + name)\n",
    "age = 31\n",
    "print(\"I am \" + str(age) + \" years old.\")"
   ]
  },
  {
   "cell_type": "code",
   "execution_count": 3,
   "id": "85877487",
   "metadata": {},
   "outputs": [
    {
     "name": "stdout",
     "output_type": "stream",
     "text": [
      "La estatura promedio es 168.33333333333334 cm\n"
     ]
    }
   ],
   "source": [
    "david_height = 170\n",
    "santana_height = 169\n",
    "maylin_height = 166\n",
    "avg_heigth = (david_height + santana_height + maylin_height) / 3\n",
    "print(\"La estatura promedio es \" + str(avg_heigth) + \" cm\")"
   ]
  },
  {
   "cell_type": "code",
   "execution_count": 4,
   "id": "7e1918e1",
   "metadata": {},
   "outputs": [
    {
     "name": "stdout",
     "output_type": "stream",
     "text": [
      "170\n",
      "339\n",
      "505\n",
      "168.33333333333334\n"
     ]
    }
   ],
   "source": [
    "total_height = 0\n",
    "total_height += david_height\n",
    "print(total_height)\n",
    "total_height += santana_height\n",
    "print(total_height)\n",
    "total_height += maylin_height\n",
    "print(total_height)\n",
    "total_height /= 3\n",
    "print(total_height)"
   ]
  },
  {
   "cell_type": "markdown",
   "id": "98545356",
   "metadata": {},
   "source": [
    "## Flux Control"
   ]
  },
  {
   "cell_type": "code",
   "execution_count": 5,
   "id": "547a0180",
   "metadata": {},
   "outputs": [
    {
     "name": "stdout",
     "output_type": "stream",
     "text": [
      "B\n"
     ]
    }
   ],
   "source": [
    "points = 85\n",
    "if points >= 90 and points < 100:\n",
    "    print(\"A\")\n",
    "elif points >= 75 and points < 90:\n",
    "    print(\"B\")\n",
    "elif points >= 60 and points < 75:\n",
    "    print(\"C\")\n",
    "elif points >= 0 and points < 60:\n",
    "    print(\"D\")\n",
    "else:\n",
    "    print(\"Nel\")"
   ]
  },
  {
   "cell_type": "code",
   "execution_count": 6,
   "id": "88b650e3",
   "metadata": {},
   "outputs": [
    {
     "name": "stdout",
     "output_type": "stream",
     "text": [
      "Cuánto tiempo demoró?: 3\n",
      "Usted recorrió: 180.0 km\n"
     ]
    }
   ],
   "source": [
    "speed = 60 # km/h\n",
    "time = input(\"Cuánto tiempo demoró?: \")\n",
    "print(\"Usted recorrió: \" + str(speed*float(time)) + \" km\")"
   ]
  },
  {
   "cell_type": "code",
   "execution_count": 7,
   "id": "4f3b0cfb",
   "metadata": {},
   "outputs": [
    {
     "name": "stdout",
     "output_type": "stream",
     "text": [
      "[170, 163, 178, 165, 166, 160]\n"
     ]
    }
   ],
   "source": [
    "heights = []\n",
    "male_heights = [170, 163, 178, 165]\n",
    "female_heights = [166, 160]\n",
    "heights = male_heights + female_heights\n",
    "print(heights)"
   ]
  },
  {
   "cell_type": "code",
   "execution_count": 8,
   "id": "a6dedacb",
   "metadata": {},
   "outputs": [
    {
     "name": "stdout",
     "output_type": "stream",
     "text": [
      "[170, 163, 178, 165, 166, 160, 168]\n",
      "[168, 160, 166, 165, 178, 163, 170]\n"
     ]
    }
   ],
   "source": [
    "heights.append(168)\n",
    "print(heights)\n",
    "print(heights[::-1])"
   ]
  },
  {
   "cell_type": "code",
   "execution_count": 9,
   "id": "f8d6a373",
   "metadata": {},
   "outputs": [
    {
     "name": "stdout",
     "output_type": "stream",
     "text": [
      "168\n"
     ]
    }
   ],
   "source": [
    "last_height = heights[-1]\n",
    "print(last_height)"
   ]
  },
  {
   "cell_type": "code",
   "execution_count": 10,
   "id": "76e22120",
   "metadata": {},
   "outputs": [
    {
     "name": "stdout",
     "output_type": "stream",
     "text": [
      "7\n"
     ]
    }
   ],
   "source": [
    "n_heights = len(heights)\n",
    "print(n_heights)"
   ]
  },
  {
   "cell_type": "code",
   "execution_count": 11,
   "id": "c3505181",
   "metadata": {},
   "outputs": [
    {
     "name": "stdout",
     "output_type": "stream",
     "text": [
      "[0, 1, 2, 3, 4, 5, 6]\n"
     ]
    }
   ],
   "source": [
    "range_a = range(n_heights)\n",
    "print(list(range_a))"
   ]
  },
  {
   "cell_type": "code",
   "execution_count": 12,
   "id": "9ada7e69",
   "metadata": {},
   "outputs": [
    {
     "name": "stdout",
     "output_type": "stream",
     "text": [
      "[2, 3, 4, 5, 6, 7, 8, 9, 10, 11, 12, 13, 14, 15]\n"
     ]
    }
   ],
   "source": [
    "range_b = range(2, 16)\n",
    "print(list(range_b))"
   ]
  },
  {
   "cell_type": "code",
   "execution_count": 13,
   "id": "d2922ffb",
   "metadata": {},
   "outputs": [
    {
     "name": "stdout",
     "output_type": "stream",
     "text": [
      "[5, 1, -3, -7]\n"
     ]
    }
   ],
   "source": [
    "range_c = range(5, -10, -4)\n",
    "print(list(range_c))"
   ]
  },
  {
   "cell_type": "code",
   "execution_count": 14,
   "id": "f1e77923",
   "metadata": {},
   "outputs": [
    {
     "name": "stdout",
     "output_type": "stream",
     "text": [
      "[('Salchipapa', 20000), ('Pizza', 7000), ('Hamburguesa', 20000), ('Hot Dog', 2500)]\n"
     ]
    }
   ],
   "source": [
    "fast_foods = [\"Salchipapa\", \"Pizza\", \"Hamburguesa\", \"Hot Dog\"]\n",
    "prices = [20000, 7000, 20000, 2500]\n",
    "food_prices = list(zip(fast_foods, prices))\n",
    "print(food_prices)"
   ]
  },
  {
   "cell_type": "code",
   "execution_count": 15,
   "id": "ec11bbbc",
   "metadata": {},
   "outputs": [
    {
     "name": "stdout",
     "output_type": "stream",
     "text": [
      "20000\n"
     ]
    }
   ],
   "source": [
    "print(food_prices[0][1])"
   ]
  },
  {
   "cell_type": "code",
   "execution_count": 16,
   "id": "31ce2036",
   "metadata": {},
   "outputs": [
    {
     "name": "stdout",
     "output_type": "stream",
     "text": [
      "Garavito\n",
      "Santana\n",
      "Joshua\n",
      "Zabala\n",
      "Juan Pablo\n"
     ]
    }
   ],
   "source": [
    "names = ['Garavito', 'Santana', 'Joshua', 'Zabala', 'Juan Pablo']\n",
    "for name in names:\n",
    "    print(name)"
   ]
  },
  {
   "cell_type": "code",
   "execution_count": 17,
   "id": "4c8f9897",
   "metadata": {},
   "outputs": [
    {
     "name": "stdout",
     "output_type": "stream",
     "text": [
      "Garavito\n",
      "Santana\n",
      "Joshua\n",
      "Zabala\n",
      "Juan Pablo\n"
     ]
    }
   ],
   "source": [
    "for i in range(len(names)):\n",
    "    print(names[i])"
   ]
  },
  {
   "cell_type": "code",
   "execution_count": 18,
   "id": "9aa34c9f",
   "metadata": {},
   "outputs": [
    {
     "name": "stdout",
     "output_type": "stream",
     "text": [
      "5\n",
      "6\n",
      "7\n",
      "8\n",
      "9\n",
      "10\n",
      "11\n",
      "12\n",
      "13\n",
      "14\n"
     ]
    }
   ],
   "source": [
    "counter = 5\n",
    "while counter < 15:\n",
    "    print(counter)\n",
    "    counter += 1"
   ]
  },
  {
   "cell_type": "code",
   "execution_count": 20,
   "id": "70e37411",
   "metadata": {},
   "outputs": [
    {
     "name": "stdout",
     "output_type": "stream",
     "text": [
      "[-8, 4, 1, -17, 25, 40, -29, -5]\n"
     ]
    }
   ],
   "source": [
    "m = 3\n",
    "b = -5\n",
    "x = [-1, 3, 2, -4, 10, 15, -8, 0]\n",
    "# y = mx + b\n",
    "y = [m*xi + b for xi in x]\n",
    "print(y)"
   ]
  },
  {
   "cell_type": "code",
   "execution_count": null,
   "id": "c0e61600",
   "metadata": {},
   "outputs": [],
   "source": []
  },
  {
   "cell_type": "code",
   "execution_count": null,
   "id": "7f30b4b4",
   "metadata": {},
   "outputs": [],
   "source": []
  },
  {
   "cell_type": "code",
   "execution_count": null,
   "id": "2b3344df",
   "metadata": {},
   "outputs": [],
   "source": []
  },
  {
   "cell_type": "code",
   "execution_count": null,
   "id": "0a8496e9",
   "metadata": {},
   "outputs": [],
   "source": []
  },
  {
   "cell_type": "code",
   "execution_count": null,
   "id": "cf20517c",
   "metadata": {},
   "outputs": [],
   "source": []
  },
  {
   "cell_type": "code",
   "execution_count": null,
   "id": "349d6653",
   "metadata": {},
   "outputs": [],
   "source": []
  },
  {
   "cell_type": "code",
   "execution_count": null,
   "id": "01e4efac",
   "metadata": {},
   "outputs": [],
   "source": []
  },
  {
   "cell_type": "code",
   "execution_count": null,
   "id": "6088cd6e",
   "metadata": {},
   "outputs": [],
   "source": []
  },
  {
   "cell_type": "code",
   "execution_count": null,
   "id": "72438a91",
   "metadata": {},
   "outputs": [],
   "source": []
  },
  {
   "cell_type": "code",
   "execution_count": null,
   "id": "a0b56849",
   "metadata": {},
   "outputs": [],
   "source": []
  },
  {
   "cell_type": "code",
   "execution_count": null,
   "id": "e00cfff3",
   "metadata": {},
   "outputs": [],
   "source": []
  },
  {
   "cell_type": "code",
   "execution_count": 21,
   "id": "8ed8d509",
   "metadata": {},
   "outputs": [
    {
     "name": "stdout",
     "output_type": "stream",
     "text": [
      "La lista con el número mayor es la lista B\n"
     ]
    }
   ],
   "source": [
    "A = [1, 3, 5, 18]\n",
    "B = [4, -1, 100]\n",
    "max_A = 0\n",
    "max_B = 0\n",
    "for a in A:\n",
    "    if a > max_A:\n",
    "        max_A = a\n",
    "for b in B:\n",
    "    if b > max_B:\n",
    "        max_B = b\n",
    "if max_A > max_B:\n",
    "    print(\"La lista con el número mayor es la lista A\")\n",
    "else:\n",
    "    print(\"La lista con el número mayor es la lista B\")"
   ]
  },
  {
   "cell_type": "code",
   "execution_count": 25,
   "id": "12d64b02",
   "metadata": {},
   "outputs": [
    {
     "name": "stdout",
     "output_type": "stream",
     "text": [
      "¿Cuántos datos hay en la lista A?: \n",
      "10\n",
      "Ingrese el valor 1 de la lista: 1\n",
      "Ingrese el valor 2 de la lista: 7\n",
      "Ingrese el valor 3 de la lista: 3\n",
      "Ingrese el valor 4 de la lista: 90\n",
      "Ingrese el valor 5 de la lista: 5\n",
      "Ingrese el valor 6 de la lista: 6\n",
      "Ingrese el valor 7 de la lista: 2\n",
      "Ingrese el valor 8 de la lista: 6\n",
      "Ingrese el valor 9 de la lista: 8\n",
      "Ingrese el valor 10 de la lista: 13\n",
      "Lista A: [1, 7, 3, 90, 5, 6, 2, 6, 8, 13]\n",
      "¿Cuántos datos hay en la lista B?: \n",
      "5\n",
      "Ingrese el valor 1 de la lista: 1\n",
      "Ingrese el valor 2 de la lista: 5\n",
      "Ingrese el valor 3 de la lista: 67\n",
      "Ingrese el valor 4 de la lista: 1\n",
      "Ingrese el valor 5 de la lista: 2\n",
      "Lista B: [1, 5, 67, 1, 2]\n",
      "La lista con el número mayor es la lista A\n"
     ]
    }
   ],
   "source": [
    "n_A = int(input(\"¿Cuántos datos hay en la lista A?: \\n\"))\n",
    "A = []\n",
    "for i in range(n_A):\n",
    "    A.append(int(input(\"Ingrese el valor \" + str(i + 1) + \" de la lista: \")))\n",
    "print(\"Lista A: \" + str(A))\n",
    "\n",
    "n_B = int(input(\"¿Cuántos datos hay en la lista B?: \\n\"))\n",
    "B = []\n",
    "for i in range(n_B):\n",
    "    B.append(int(input(\"Ingrese el valor \" + str(i + 1) + \" de la lista: \")))\n",
    "print(\"Lista B: \" + str(B))\n",
    "\n",
    "max_A = 0\n",
    "max_B = 0\n",
    "for a in A:\n",
    "    if a > max_A:\n",
    "        max_A = a\n",
    "for b in B:\n",
    "    if b > max_B:\n",
    "        max_B = b\n",
    "if max_A > max_B:\n",
    "    print(\"La lista con el número mayor es la lista A\")\n",
    "else:\n",
    "    print(\"La lista con el número mayor es la lista B\")"
   ]
  },
  {
   "cell_type": "code",
   "execution_count": null,
   "id": "e8f4f83f",
   "metadata": {},
   "outputs": [],
   "source": []
  },
  {
   "cell_type": "code",
   "execution_count": null,
   "id": "aea38843",
   "metadata": {},
   "outputs": [],
   "source": []
  },
  {
   "cell_type": "code",
   "execution_count": null,
   "id": "5c8692d8",
   "metadata": {},
   "outputs": [],
   "source": []
  }
 ],
 "metadata": {
  "kernelspec": {
   "display_name": "Python 3 (ipykernel)",
   "language": "python",
   "name": "python3"
  },
  "language_info": {
   "codemirror_mode": {
    "name": "ipython",
    "version": 3
   },
   "file_extension": ".py",
   "mimetype": "text/x-python",
   "name": "python",
   "nbconvert_exporter": "python",
   "pygments_lexer": "ipython3",
   "version": "3.10.6"
  }
 },
 "nbformat": 4,
 "nbformat_minor": 5
}
