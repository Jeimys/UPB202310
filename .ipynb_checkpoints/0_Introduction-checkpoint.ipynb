{
 "cells": [
  {
   "cell_type": "code",
   "execution_count": 2,
   "id": "63e87a00",
   "metadata": {},
   "outputs": [
    {
     "name": "stdout",
     "output_type": "stream",
     "text": [
      "¡Hola, Mundo!\n"
     ]
    }
   ],
   "source": [
    "print(\"¡Hola, Mundo!\")"
   ]
  },
  {
   "cell_type": "code",
   "execution_count": 3,
   "id": "598318fa",
   "metadata": {},
   "outputs": [
    {
     "name": "stdout",
     "output_type": "stream",
     "text": [
      "8\n"
     ]
    }
   ],
   "source": [
    "a = 5\n",
    "b = 3\n",
    "c = a + b\n",
    "print(c)"
   ]
  },
  {
   "cell_type": "code",
   "execution_count": 4,
   "id": "0222f452",
   "metadata": {},
   "outputs": [
    {
     "data": {
      "text/plain": [
       "8"
      ]
     },
     "execution_count": 4,
     "metadata": {},
     "output_type": "execute_result"
    }
   ],
   "source": [
    "c"
   ]
  },
  {
   "cell_type": "code",
   "execution_count": 5,
   "id": "5e01f8a0",
   "metadata": {},
   "outputs": [],
   "source": [
    "c?"
   ]
  },
  {
   "cell_type": "code",
   "execution_count": 6,
   "id": "8f020dcc",
   "metadata": {},
   "outputs": [
    {
     "data": {
      "text/html": [
       "<div>\n",
       "<style scoped>\n",
       "    .dataframe tbody tr th:only-of-type {\n",
       "        vertical-align: middle;\n",
       "    }\n",
       "\n",
       "    .dataframe tbody tr th {\n",
       "        vertical-align: top;\n",
       "    }\n",
       "\n",
       "    .dataframe thead th {\n",
       "        text-align: right;\n",
       "    }\n",
       "</style>\n",
       "<table border=\"1\" class=\"dataframe\">\n",
       "  <thead>\n",
       "    <tr style=\"text-align: right;\">\n",
       "      <th></th>\n",
       "    </tr>\n",
       "  </thead>\n",
       "  <tbody>\n",
       "  </tbody>\n",
       "</table>\n",
       "</div>"
      ],
      "text/plain": [
       "Empty DataFrame\n",
       "Columns: []\n",
       "Index: []"
      ]
     },
     "execution_count": 6,
     "metadata": {},
     "output_type": "execute_result"
    }
   ],
   "source": [
    "import pandas as pd\n",
    "pd.DataFrame()"
   ]
  },
  {
   "cell_type": "markdown",
   "id": "5422d1ba",
   "metadata": {},
   "source": [
    "# Markdown"
   ]
  },
  {
   "cell_type": "markdown",
   "id": "b8901f40",
   "metadata": {},
   "source": [
    "## Título 2\n",
    "### Título 3\n",
    "#### Título 4"
   ]
  },
  {
   "cell_type": "markdown",
   "id": "9f5ce8bf",
   "metadata": {},
   "source": [
    "**negrita**\n",
    "\n",
    "__negrita__\n",
    "\n",
    "*cursiva*\n",
    "\n",
    "_cursiva_"
   ]
  },
  {
   "cell_type": "markdown",
   "id": "ec2258bb",
   "metadata": {},
   "source": [
    "### Cómo colocar código en Markdown?\n",
    "\n",
    "Utilice `print(\"Hello, World)`.\n",
    "\n",
    "Código más extenso:\n",
    "```python\n",
    "a = 3\n",
    "b = 5\n",
    "c = a + b\n",
    "print(c)\n",
    "```\n",
    "***\n",
    "```js\n",
    "console.log(\"Hello\")\n",
    "```"
   ]
  },
  {
   "cell_type": "markdown",
   "id": "d046ba71",
   "metadata": {},
   "source": [
    "### Listas con Markdown\n",
    "\n",
    "#### Ingredientes\n",
    "- Harina\n",
    "- Huevo\n",
    "- Sal\n",
    "- Agua\n",
    "* Mantequilla\n",
    "    - Marca X\n",
    "    - Marca Y\n",
    "    \n",
    "#### Procedimiento\n",
    "1. Calentar el agua\n",
    "2. Mezclar la harina con la sal\n",
    "    1. Combinar ingredientes secos"
   ]
  },
  {
   "cell_type": "markdown",
   "id": "635eab49",
   "metadata": {},
   "source": [
    "`![Logo Python](python_logo.png)`"
   ]
  },
  {
   "cell_type": "markdown",
   "id": "37f8f8d0",
   "metadata": {},
   "source": [
    "<img src=\"python_logo.png\" style=\"max-height: 100px\"> "
   ]
  },
  {
   "cell_type": "markdown",
   "id": "5da2dcb3",
   "metadata": {},
   "source": [
    "- Ir a [Google](https://www.google.com/)\n",
    "- Ir a [Markdown - Inicio](#Markdown)"
   ]
  },
  {
   "cell_type": "markdown",
   "id": "de25542f",
   "metadata": {},
   "source": [
    "Ecuación de la línea recta $y$:\n",
    "\n",
    "$$y = mx + b$$"
   ]
  },
  {
   "cell_type": "code",
   "execution_count": null,
   "id": "a54c9624",
   "metadata": {},
   "outputs": [],
   "source": []
  }
 ],
 "metadata": {
  "kernelspec": {
   "display_name": "Python 3 (ipykernel)",
   "language": "python",
   "name": "python3"
  },
  "language_info": {
   "codemirror_mode": {
    "name": "ipython",
    "version": 3
   },
   "file_extension": ".py",
   "mimetype": "text/x-python",
   "name": "python",
   "nbconvert_exporter": "python",
   "pygments_lexer": "ipython3",
   "version": "3.10.6"
  }
 },
 "nbformat": 4,
 "nbformat_minor": 5
}
