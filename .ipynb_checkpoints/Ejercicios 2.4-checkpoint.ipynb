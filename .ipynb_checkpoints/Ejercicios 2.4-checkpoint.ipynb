{
 "cells": [
  {
   "cell_type": "markdown",
   "id": "d4475e81",
   "metadata": {},
   "source": [
    "### Calcule y compare la media y la desviación estándar de la cantidad de elementos vendiddos por día de dos productos diferentes"
   ]
  },
  {
   "cell_type": "code",
   "execution_count": 1,
   "id": "8a4887f6",
   "metadata": {},
   "outputs": [
    {
     "name": "stdout",
     "output_type": "stream",
     "text": [
      "la media de cookies es de: 1431.8\n",
      "la media de cupcakes es de: 124.7\n",
      "La media de cookies es mayor que la media de cupcakes\n"
     ]
    }
   ],
   "source": [
    "import numpy as np\n",
    "\n",
    "cookies = np.array([68, 1820, 1420, 2062, 704, 1156, 1857, 1755, 2092, 1384])\n",
    "\n",
    "cupcakes = np.array([20, 43, 99, 200, 12, 250, 58, 120, 230, 215])\n",
    "\n",
    "media_cookies = np.mean(cookies)\n",
    "media_cupcakes = np.mean(cupcakes)\n",
    "\n",
    "print(f'la media de cookies es de: {media_cookies}')\n",
    "print(f'la media de cupcakes es de: {media_cupcakes}')\n",
    "\n",
    "if media_cookies > media_cupcakes:\n",
    "    print(f'La media de cookies es mayor que la media de cupcakes')\n",
    "elif media_cookies < media_cupcakes:\n",
    "    print(f'La media de cupcakes es mayor que la media de cookies')\n",
    "else:\n",
    "    print('La media de cookies y la media de cupcakes son iguales')\n",
    "    \n"
   ]
  },
  {
   "cell_type": "code",
   "execution_count": 2,
   "id": "d4002078",
   "metadata": {},
   "outputs": [
    {
     "name": "stdout",
     "output_type": "stream",
     "text": [
      "la desviación estándar de cookies es de: 611.3183785884406\n",
      "la desviación estándar de cupcakes es de: 87.22505374031019\n",
      "La desviación estándar de cookies es mayor que la media de cupcakes\n"
     ]
    }
   ],
   "source": [
    "desviacion_cookies = np.std(cookies)\n",
    "desviacion_cupcakes = np.std(cupcakes)\n",
    "\n",
    "print(f'la desviación estándar de cookies es de: {desviacion_cookies}')\n",
    "print(f'la desviación estándar de cupcakes es de: {desviacion_cupcakes}')\n",
    "\n",
    "if desviacion_cookies > desviacion_cupcakes:\n",
    "    print(f'La desviación estándar de cookies es mayor que la media de cupcakes')\n",
    "elif desviacion_cookies < desviacion_cupcakes:\n",
    "    print(f'La desviación estándar de cupcakes es mayor que la media de cookies')\n",
    "else:\n",
    "    print('La desviación estándar de cookies y la desviación estándar de cupcakes son iguales')"
   ]
  },
  {
   "cell_type": "code",
   "execution_count": null,
   "id": "dc36c226",
   "metadata": {},
   "outputs": [],
   "source": []
  },
  {
   "cell_type": "markdown",
   "id": "b307dfc4",
   "metadata": {},
   "source": [
    "### Usted trabaja en el departamento de marketing de una empresa de comida llamada YummyCorps, que está desarrollando una nueva clase de cereal llamado CrunchieMunchies. Usted quiere demostrar a los consumidores lo saludable que es este cereal en comparación con otras marcas líderes, por lo que has decidido buscar datos nutricionales de diferentes competidores."
   ]
  },
  {
   "cell_type": "code",
   "execution_count": 3,
   "id": "8f7b9ded",
   "metadata": {},
   "outputs": [
    {
     "name": "stdout",
     "output_type": "stream",
     "text": [
      "[ 70. 120.  70.  50. 110. 110. 110. 130.  90.  90. 120. 110. 120. 110.\n",
      " 110. 110. 100. 110. 110. 110. 100. 110. 100. 100. 110. 110. 100. 120.\n",
      " 120. 110. 100. 110. 100. 110. 120. 120. 110. 110. 110. 140. 110. 100.\n",
      " 110. 100. 150. 150. 160. 100. 120. 140.  90. 130. 120. 100.  50.  50.\n",
      " 100. 100. 120. 100.  90. 110. 110.  80.  90.  90. 110. 110.  90. 110.\n",
      " 140. 100. 110. 110. 100. 100. 110.]\n"
     ]
    }
   ],
   "source": [
    "import numpy as np\n",
    "\n",
    "calorie_stats = np.genfromtxt('cereal.csv', delimiter=',')\n",
    "print(calorie_stats)"
   ]
  },
  {
   "cell_type": "code",
   "execution_count": 4,
   "id": "322fffe8",
   "metadata": {},
   "outputs": [
    {
     "name": "stdout",
     "output_type": "stream",
     "text": [
      "El promedio de calorías de la competencia es de: \n",
      "106.88311688311688\n"
     ]
    }
   ],
   "source": [
    "prom_CrunchieMunchies = 60\n",
    "prom_competencia = calorie_stats.sum()/len(calorie_stats)\n",
    "print(f'El promedio de calorías de la competencia es de: \\n{prom_competencia}')"
   ]
  },
  {
   "cell_type": "code",
   "execution_count": 5,
   "id": "cacf5cf7",
   "metadata": {},
   "outputs": [
    {
     "name": "stdout",
     "output_type": "stream",
     "text": [
      "El promedio de calorias de la competencia es 46.88 más alto que el de CrunchieMunchies\n"
     ]
    }
   ],
   "source": [
    "average_calories = round(prom_competencia - prom_CrunchieMunchies , 2)\n",
    "\n",
    "print(f'El promedio de calorias de la competencia es {average_calories} más alto que el de CrunchieMunchies')"
   ]
  },
  {
   "cell_type": "code",
   "execution_count": 6,
   "id": "fb57f47e",
   "metadata": {},
   "outputs": [
    {
     "name": "stdout",
     "output_type": "stream",
     "text": [
      "[ 50.  50.  50.  70.  70.  80.  90.  90.  90.  90.  90.  90.  90. 100.\n",
      " 100. 100. 100. 100. 100. 100. 100. 100. 100. 100. 100. 100. 100. 100.\n",
      " 100. 100. 110. 110. 110. 110. 110. 110. 110. 110. 110. 110. 110. 110.\n",
      " 110. 110. 110. 110. 110. 110. 110. 110. 110. 110. 110. 110. 110. 110.\n",
      " 110. 110. 110. 120. 120. 120. 120. 120. 120. 120. 120. 120. 120. 130.\n",
      " 130. 140. 140. 140. 150. 150. 160.]\n"
     ]
    }
   ],
   "source": [
    "average_calories = np.sort(calorie_stats)\n",
    "print(average_calories)"
   ]
  },
  {
   "cell_type": "code",
   "execution_count": 7,
   "id": "bd215d34",
   "metadata": {},
   "outputs": [
    {
     "name": "stdout",
     "output_type": "stream",
     "text": [
      "La mediana de los datos es de: 110.0\n"
     ]
    }
   ],
   "source": [
    "median_calories = np.median(average_calories)\n",
    "print(f'La mediana de los datos es de: {median_calories}')"
   ]
  },
  {
   "cell_type": "code",
   "execution_count": 8,
   "id": "59babfa5",
   "metadata": {},
   "outputs": [
    {
     "name": "stdout",
     "output_type": "stream",
     "text": [
      "La mediana (110.0) es mayor de la media (106.88311688311688)\n"
     ]
    }
   ],
   "source": [
    "if prom_competencia > median_calories:\n",
    "    print(f'La media ({prom_competencia}) es mayor de la mediana ({median_calories})')\n",
    "elif prom_competencia < median_calories:\n",
    "    print(f'La mediana ({median_calories}) es mayor de la media ({prom_competencia})')\n",
    "else: print(f'La mediana ({median_calories}) y la media ({prom_competencia}) son iguales')"
   ]
  },
  {
   "cell_type": "code",
   "execution_count": 13,
   "id": "56ae043a",
   "metadata": {},
   "outputs": [
    {
     "name": "stdout",
     "output_type": "stream",
     "text": [
      "70.0\n",
      "70.0\n",
      "75.6\n",
      "83.2\n",
      "90.0\n",
      "90.0\n",
      "90.0\n",
      "90.0\n",
      "90.0\n",
      "90.0\n",
      "90.0\n",
      "90.0\n",
      "91.6\n",
      "99.20000000000002\n",
      "100.0\n",
      "100.0\n",
      "100.0\n",
      "100.0\n",
      "100.0\n",
      "100.0\n",
      "100.0\n",
      "100.0\n"
     ]
    }
   ],
   "source": [
    "percentiles = []\n",
    "\n",
    "for i in range(1, 26, 1):\n",
    "    percentiles = np.percentile(calorie_stats, i)\n",
    "    if percentiles > 60: \n",
    "        print(percentiles)"
   ]
  },
  {
   "cell_type": "code",
   "execution_count": null,
   "id": "caaf4ea1",
   "metadata": {},
   "outputs": [],
   "source": []
  },
  {
   "cell_type": "code",
   "execution_count": null,
   "id": "c28cea6c",
   "metadata": {},
   "outputs": [],
   "source": []
  },
  {
   "cell_type": "code",
   "execution_count": null,
   "id": "09f05666",
   "metadata": {},
   "outputs": [],
   "source": []
  }
 ],
 "metadata": {
  "kernelspec": {
   "display_name": "Python 3 (ipykernel)",
   "language": "python",
   "name": "python3"
  },
  "language_info": {
   "codemirror_mode": {
    "name": "ipython",
    "version": 3
   },
   "file_extension": ".py",
   "mimetype": "text/x-python",
   "name": "python",
   "nbconvert_exporter": "python",
   "pygments_lexer": "ipython3",
   "version": "3.9.7"
  }
 },
 "nbformat": 4,
 "nbformat_minor": 5
}
