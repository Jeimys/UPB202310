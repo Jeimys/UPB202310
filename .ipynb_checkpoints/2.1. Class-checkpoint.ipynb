{
 "cells": [
  {
   "cell_type": "code",
   "execution_count": 60,
   "id": "1fafeb6c",
   "metadata": {},
   "outputs": [
    {
     "name": "stdout",
     "output_type": "stream",
     "text": [
      "my ID is 1\n",
      "my ID is 2\n",
      "-*-*-*-*-*-*-*-*-*-*-*-*-*-*-*\n",
      "my ID is 3\n",
      "-*-*-*-*-*-*-*-*-*-*-*-*-*-*-*\n",
      "I am an Admin.\n",
      "-*-*-*-*-*-*-*-*-*-*-*-*-*-*-*\n",
      "I am an Admin.\n",
      "my ID is 5\n",
      "-*-*-*-*-*-*-*-*-*-*-*-*-*-*-*\n",
      "I am in charge.\n",
      "my ID is 6\n",
      "-*-*-*-*-*-*-*-*-*-*-*-*-*-*-*\n",
      "I am an Admin\n",
      "my ID is 7\n"
     ]
    }
   ],
   "source": [
    "from abc import ABC, abstractmethod\n",
    "\n",
    "class AbstractEmployee(ABC):\n",
    "    new_id = 1\n",
    "    def __init__(self):\n",
    "        self.id = AbstractEmployee.new_id\n",
    "        AbstractEmployee.new_id += 1\n",
    "\n",
    "@abstractmethod\n",
    "def say_id(self):\n",
    "    pass\n",
    "        \n",
    "    \n",
    "    \n",
    "\n",
    "class Employee(AbstractEmployee):\n",
    "    new_id = 1\n",
    "    \n",
    "    def __init__(self):\n",
    "        self.id = self.new_id\n",
    "        Employee.new_id +=1\n",
    "        \n",
    "        \n",
    "    def say_id(self):\n",
    "        print(f\"my ID is {self.id}\")\n",
    "        \n",
    "\n",
    "        \n",
    "class User:\n",
    "    def __init__(self, username, role):\n",
    "        self.username = username\n",
    "        self.role = role\n",
    "        \n",
    "    def say_user_info(self):\n",
    "        print(f\"User info: \\nUsername: {self.username} \\nRole: {self.role}\")\n",
    "\n",
    "    \n",
    "class Admin5(Employee, User):\n",
    "    def __init__(self):\n",
    "        super().__init__()\n",
    "        User.__init__(self, self.id, \"Admin\")\n",
    "        \n",
    "    def say_id(self):\n",
    "        print(\"I am an Admin\")\n",
    "        super().say_id()\n",
    "        \n",
    "        \n",
    "class Admin(Employee):\n",
    "    pass\n",
    "\n",
    "\n",
    "class Admin1(Employee):\n",
    "    def say_id(self):\n",
    "        print(\"I am an Admin.\")\n",
    "\n",
    "        \n",
    "        \n",
    "class Admin2(Employee, User):\n",
    "    def say_id(self):\n",
    "        print(\"I am an Admin.\")\n",
    "        super().say_id()\n",
    "      \n",
    "    \n",
    "class Manager(Admin):\n",
    "    def say_id(self):\n",
    "        print(\"I am in charge.\")\n",
    "        super().say_id()\n",
    "\n",
    "\n",
    "\n",
    "e1 = Employee()\n",
    "e2 = Employee()\n",
    "\n",
    "e1.say_id()\n",
    "e2.say_id()\n",
    "print('-*'*15)\n",
    "e3 = Admin()\n",
    "e3.say_id()\n",
    "print('-*'*15)\n",
    "e3 = Admin1()\n",
    "e3.say_id()\n",
    "print('-*'*15)\n",
    "e3 = Admin2()\n",
    "e3.say_id()\n",
    "print('-*'*15)\n",
    "e4 = Manager()\n",
    "e4.say_id()\n",
    "print('-*'*15)\n",
    "e5 = Admin5()\n",
    "e5.say_id()"
   ]
  },
  {
   "cell_type": "code",
   "execution_count": null,
   "id": "13a9fc0e",
   "metadata": {},
   "outputs": [],
   "source": []
  },
  {
   "cell_type": "code",
   "execution_count": 62,
   "id": "8688379b",
   "metadata": {},
   "outputs": [
    {
     "name": "stdout",
     "output_type": "stream",
     "text": [
      "my ID is 8\n",
      "------------------------------\n",
      "I am an Admin\n",
      "my ID is 9\n",
      "------------------------------\n",
      "I am in charge.\n",
      "my ID is 10\n",
      "------------------------------\n"
     ]
    }
   ],
   "source": [
    "meeting = [Employee(), Admin5(), Manager()]\n",
    "\n",
    "for attendee in meeting:\n",
    "    attendee.say_id()\n",
    "    print('-'*30)"
   ]
  },
  {
   "cell_type": "code",
   "execution_count": 63,
   "id": "ab71e210",
   "metadata": {},
   "outputs": [
    {
     "name": "stdout",
     "output_type": "stream",
     "text": [
      "0\n",
      "Employee with ID 1 added sucessful\n",
      "1\n",
      "Employee with ID 2 added sucessful\n",
      "2\n"
     ]
    }
   ],
   "source": [
    "m1 = Meeting()\n",
    "print(len(m1))\n",
    "m1 + e1\n",
    "print(len(m1))\n",
    "m1 + e2\n",
    "print(len(m1))"
   ]
  },
  {
   "cell_type": "code",
   "execution_count": null,
   "id": "43a86af7",
   "metadata": {},
   "outputs": [],
   "source": []
  },
  {
   "cell_type": "code",
   "execution_count": null,
   "id": "4eef451b",
   "metadata": {},
   "outputs": [],
   "source": []
  },
  {
   "cell_type": "code",
   "execution_count": null,
   "id": "dc8fd2a1",
   "metadata": {},
   "outputs": [],
   "source": []
  },
  {
   "cell_type": "code",
   "execution_count": null,
   "id": "2c03b6d7",
   "metadata": {},
   "outputs": [],
   "source": []
  },
  {
   "cell_type": "code",
   "execution_count": null,
   "id": "e5957a52",
   "metadata": {},
   "outputs": [],
   "source": []
  },
  {
   "cell_type": "code",
   "execution_count": null,
   "id": "ab1dcd73",
   "metadata": {},
   "outputs": [],
   "source": []
  },
  {
   "cell_type": "code",
   "execution_count": 40,
   "id": "4489f45f",
   "metadata": {},
   "outputs": [
    {
     "name": "stdout",
     "output_type": "stream",
     "text": [
      "[5, 4, 3, 2, 1, 0]\n",
      "el area 0 es: 0\n",
      "el area 1 es: 4\n",
      "el area 2 es: 6\n",
      "el area 3 es: 6\n",
      "el area 4 es: 4\n",
      "el area 5 es: 0\n"
     ]
    }
   ],
   "source": [
    "class rectangulo:\n",
    "    def __init__(self, base, altura):\n",
    "        self.base = base\n",
    "        self.altura = altura\n",
    "    \n",
    "    def area(self):\n",
    "        area = self.base*self.altura\n",
    "        print(f'el area {a[i]} es: {area}')\n",
    "    \n",
    "a = [0, 1, 2, 3, 4, 5]\n",
    "a = a[::-1]\n",
    "print(a)\n",
    "n = 0\n",
    "for i in a:\n",
    "    a_i = rectangulo(i, n)\n",
    "    a_i.area()\n",
    "    n += 1\n",
    "    "
   ]
  },
  {
   "cell_type": "code",
   "execution_count": null,
   "id": "989b6c40",
   "metadata": {},
   "outputs": [],
   "source": []
  },
  {
   "cell_type": "code",
   "execution_count": null,
   "id": "d606b3b1",
   "metadata": {},
   "outputs": [],
   "source": []
  },
  {
   "cell_type": "code",
   "execution_count": null,
   "id": "2d508195",
   "metadata": {},
   "outputs": [],
   "source": []
  },
  {
   "cell_type": "code",
   "execution_count": null,
   "id": "a6e6ed0a",
   "metadata": {},
   "outputs": [],
   "source": []
  },
  {
   "cell_type": "code",
   "execution_count": null,
   "id": "6db0b82c",
   "metadata": {},
   "outputs": [],
   "source": []
  },
  {
   "cell_type": "markdown",
   "id": "a4105ec8",
   "metadata": {},
   "source": [
    "### En clase"
   ]
  },
  {
   "cell_type": "code",
   "execution_count": 65,
   "id": "d6d5c657",
   "metadata": {},
   "outputs": [],
   "source": [
    "class Salchipapa():\n",
    "    # class variable\n",
    "    type_of_food = \"Junk Food\"\n",
    "    # methods\n",
    "    def __init__(self, name, price):\n",
    "        # instance variable\n",
    "        self.name = name\n",
    "        self.price = price\n",
    "        self.ingredients = []\n",
    "    def add_ingredient(self, ingredient):\n",
    "        self.ingredients.append(ingredient)"
   ]
  },
  {
   "cell_type": "code",
   "execution_count": 66,
   "id": "8ccd038e",
   "metadata": {},
   "outputs": [],
   "source": [
    "ranchera_sencilla = Salchipapa(\"Ranchera Sencilla\", 15000)\n",
    "ranchera_especial = Salchipapa(\"Ranchera Especial\", 20000)"
   ]
  },
  {
   "cell_type": "code",
   "execution_count": 67,
   "id": "0443b2bc",
   "metadata": {},
   "outputs": [
    {
     "name": "stdout",
     "output_type": "stream",
     "text": [
      "[]\n"
     ]
    }
   ],
   "source": [
    "print(ranchera_sencilla.ingredients)"
   ]
  },
  {
   "cell_type": "code",
   "execution_count": 68,
   "id": "5625e0da",
   "metadata": {},
   "outputs": [],
   "source": [
    "ranchera_sencilla.add_ingredient(\"Salchicha Ranchera\")\n",
    "ranchera_sencilla.add_ingredient(\"Papita\")\n",
    "ranchera_sencilla.add_ingredient(\"Queso\")\n",
    "ranchera_sencilla.add_ingredient(\"Salsa BBQ\")"
   ]
  },
  {
   "cell_type": "code",
   "execution_count": 69,
   "id": "4c0ffd38",
   "metadata": {},
   "outputs": [
    {
     "name": "stdout",
     "output_type": "stream",
     "text": [
      "Junk Food\n",
      "Junk Food\n"
     ]
    }
   ],
   "source": [
    "print(ranchera_sencilla.type_of_food)\n",
    "print(ranchera_especial.type_of_food)"
   ]
  },
  {
   "cell_type": "code",
   "execution_count": 70,
   "id": "9a48d61d",
   "metadata": {},
   "outputs": [
    {
     "name": "stdout",
     "output_type": "stream",
     "text": [
      "['Salchicha Ranchera', 'Papita', 'Queso', 'Salsa BBQ']\n",
      "[]\n"
     ]
    }
   ],
   "source": [
    "print(ranchera_sencilla.ingredients)\n",
    "print(ranchera_especial.ingredients)"
   ]
  },
  {
   "cell_type": "code",
   "execution_count": 71,
   "id": "13a89f46",
   "metadata": {},
   "outputs": [
    {
     "name": "stdout",
     "output_type": "stream",
     "text": [
      "Ranchera Sencilla 15000\n",
      "Ranchera Especial 20000\n"
     ]
    }
   ],
   "source": [
    "print(ranchera_sencilla.name, ranchera_sencilla.price)\n",
    "print(ranchera_especial.name, ranchera_especial.price)"
   ]
  },
  {
   "cell_type": "code",
   "execution_count": null,
   "id": "c5b6ed81",
   "metadata": {},
   "outputs": [],
   "source": []
  },
  {
   "cell_type": "code",
   "execution_count": null,
   "id": "bbf5ef4c",
   "metadata": {},
   "outputs": [],
   "source": []
  },
  {
   "cell_type": "code",
   "execution_count": null,
   "id": "6329d774",
   "metadata": {},
   "outputs": [],
   "source": []
  },
  {
   "cell_type": "code",
   "execution_count": null,
   "id": "b2ca08c8",
   "metadata": {},
   "outputs": [],
   "source": []
  },
  {
   "cell_type": "code",
   "execution_count": 64,
   "id": "3ad57806",
   "metadata": {},
   "outputs": [
    {
     "name": "stdout",
     "output_type": "stream",
     "text": [
      "My ID is 1.\n",
      "------------------------------\n",
      "My ID is 2.\n",
      "------------------------------\n",
      "I am an Admin.\n",
      "My ID is 3.\n",
      "------------------------------\n",
      "User Info: \n",
      "Username: 3 \n",
      "Role: Admin\n",
      "------------------------------\n",
      "I am in charge.\n",
      "I am an Admin.\n",
      "My ID is 4.\n",
      "------------------------------\n",
      "User Info: \n",
      "Username: 4 \n",
      "Role: Admin\n",
      "------------------------------\n",
      "My ID is 5.\n",
      "------------------------------\n",
      "I am an Admin.\n",
      "My ID is 6.\n",
      "------------------------------\n",
      "I am in charge.\n",
      "I am an Admin.\n",
      "My ID is 7.\n",
      "------------------------------\n",
      "Employee with ID 1 added sucessfully!\n",
      "Employee with ID 2 added sucessfully!\n",
      "Employee with ID 3 added sucessfully!\n",
      "3\n"
     ]
    }
   ],
   "source": [
    "class Employee:\n",
    "    new_id = 1\n",
    "    \n",
    "    def __init__(self):\n",
    "        self.id = self.new_id\n",
    "        Employee.new_id += 1\n",
    "        \n",
    "    def say_id(self):\n",
    "        print(f\"My ID is {self.id}.\")\n",
    "        \n",
    "class User:\n",
    "    def __init__(self, username, role):\n",
    "        self.username = username\n",
    "        self.role = role\n",
    "    \n",
    "    def say_user_info(self):\n",
    "        print(f\"User Info: \\nUsername: {self.username} \\nRole: {self.role}\")\n",
    "        \n",
    "class Admin(Employee, User):\n",
    "    def __init__(self):\n",
    "        super().__init__()\n",
    "        User.__init__(self, self.id, \"Admin\")\n",
    "    \n",
    "    def say_id(self):\n",
    "        print(\"I am an Admin.\")\n",
    "        super().say_id()\n",
    "        \n",
    "class Manager(Admin):\n",
    "    def say_id(self):\n",
    "        print(\"I am in charge.\")\n",
    "        super().say_id()\n",
    "        \n",
    "        \n",
    "class Meeting:\n",
    "    def __init__(self):\n",
    "        self.attendees = []\n",
    "        \n",
    "    def __add__(self, employee):\n",
    "        self.attendees.append(employee)        \n",
    "        print(f\"Employee with ID {employee.id} added sucessfully!\")\n",
    "    \n",
    "    def __len__(self):\n",
    "        return len(self.attendees)\n",
    "        \n",
    "        \n",
    "e1 = Employee()\n",
    "e2 = Employee()\n",
    "e3 = Admin()\n",
    "e4 = Manager()\n",
    "\n",
    "e1.say_id()\n",
    "print('-'*30)\n",
    "e2.say_id()\n",
    "print('-'*30)\n",
    "e3.say_id()\n",
    "print('-'*30)\n",
    "e3.say_user_info()\n",
    "print('-'*30)\n",
    "e4.say_id()\n",
    "print('-'*30)\n",
    "e4.say_user_info()\n",
    "print('-'*30)\n",
    "\n",
    "meeting = [Employee(), Admin(), Manager()]\n",
    "for attendee in meeting:\n",
    "    attendee.say_id()\n",
    "    print('-'*30)\n",
    "    \n",
    "m1 = Meeting()\n",
    "m1 + e1\n",
    "m1 + e2\n",
    "m1 + e3\n",
    "print(len(m1))"
   ]
  },
  {
   "cell_type": "code",
   "execution_count": null,
   "id": "4d5992e8",
   "metadata": {},
   "outputs": [],
   "source": []
  }
 ],
 "metadata": {
  "kernelspec": {
   "display_name": "Python 3 (ipykernel)",
   "language": "python",
   "name": "python3"
  },
  "language_info": {
   "codemirror_mode": {
    "name": "ipython",
    "version": 3
   },
   "file_extension": ".py",
   "mimetype": "text/x-python",
   "name": "python",
   "nbconvert_exporter": "python",
   "pygments_lexer": "ipython3",
   "version": "3.9.7"
  }
 },
 "nbformat": 4,
 "nbformat_minor": 5
}
