{
 "cells": [
  {
   "cell_type": "code",
   "execution_count": 5,
   "id": "3f0df63d-8e7d-4011-9625-952794358f1a",
   "metadata": {},
   "outputs": [],
   "source": [
    "def is_in_sentence(sentence, name):\n",
    "    return name in sentence"
   ]
  },
  {
   "cell_type": "code",
   "execution_count": 7,
   "id": "e2d05883-2ff2-4799-a8ae-324fc7945d09",
   "metadata": {},
   "outputs": [
    {
     "name": "stdout",
     "output_type": "stream",
     "text": [
      "True\n"
     ]
    }
   ],
   "source": [
    "sentence = \"Andrés llega tarde a la U\"\n",
    "name = \"Andrés\"\n",
    "print(is_in_sentence(sentence, name))"
   ]
  },
  {
   "cell_type": "code",
   "execution_count": null,
   "id": "7878fa3f-0a6e-41b4-b240-64a3eb7dd9e9",
   "metadata": {},
   "outputs": [],
   "source": []
  },
  {
   "cell_type": "code",
   "execution_count": 8,
   "id": "11235bdf-ec86-48c1-95d0-01dcff567eb0",
   "metadata": {},
   "outputs": [],
   "source": [
    "def mid_letters(word):\n",
    "    new_word = \"\"\n",
    "    for i in range(0, len(word), 2):\n",
    "        new_word += word[i]\n",
    "    return new_word"
   ]
  },
  {
   "cell_type": "code",
   "execution_count": 9,
   "id": "28a96ad1-718d-4753-84a6-32e4916e8e94",
   "metadata": {},
   "outputs": [
    {
     "name": "stdout",
     "output_type": "stream",
     "text": [
      "Mrilg\n"
     ]
    }
   ],
   "source": [
    "my_word = \"Murcielago\"\n",
    "print(mid_letters(my_word))"
   ]
  },
  {
   "cell_type": "code",
   "execution_count": 10,
   "id": "f07525ad-c834-4fce-8065-72fb83c1bdf6",
   "metadata": {},
   "outputs": [],
   "source": [
    "def mid_sentence(sentence):\n",
    "    my_word = sentence.replace(\" \", \"\")\n",
    "    return mid_letters(my_word)    "
   ]
  },
  {
   "cell_type": "code",
   "execution_count": 11,
   "id": "30414ff0-902d-4cae-944b-f99fa4de1d29",
   "metadata": {},
   "outputs": [
    {
     "name": "stdout",
     "output_type": "stream",
     "text": [
      "HknMtt\n"
     ]
    }
   ],
   "source": [
    "my_sentence = \"Hakuna Matata\"\n",
    "print(mid_sentence(my_sentence))"
   ]
  },
  {
   "cell_type": "code",
   "execution_count": 14,
   "id": "d0a50308-c935-4b61-be3e-d93b4c7f5351",
   "metadata": {},
   "outputs": [],
   "source": [
    "def inv_word(word):\n",
    "    return word[::-1]"
   ]
  },
  {
   "cell_type": "code",
   "execution_count": 15,
   "id": "abffd208-62a5-40ae-8831-2ffaebfe72a9",
   "metadata": {},
   "outputs": [
    {
     "name": "stdout",
     "output_type": "stream",
     "text": [
      "odnuM\n"
     ]
    }
   ],
   "source": [
    "my_word = \"Mundo\"\n",
    "print(inv_word(my_word))"
   ]
  },
  {
   "cell_type": "code",
   "execution_count": 23,
   "id": "ae6f787e-86c9-4d12-87df-3d337b582cd2",
   "metadata": {},
   "outputs": [],
   "source": [
    "def is_palindrome(sentence):\n",
    "    my_sentence = sentence.replace(\" \", \"\").lower()\n",
    "    my_sentence_inv = inv_word(my_sentence)\n",
    "    return my_sentence == my_sentence_inv"
   ]
  },
  {
   "cell_type": "code",
   "execution_count": 26,
   "id": "54d17b6f-4928-43d0-b9f7-4d66d673634d",
   "metadata": {},
   "outputs": [
    {
     "name": "stdout",
     "output_type": "stream",
     "text": [
      "True\n",
      "True\n"
     ]
    }
   ],
   "source": [
    "my_sentence = \"Anita lava la tina\"\n",
    "print(is_palindrome(my_sentence))\n",
    "my_sentence = \"Dabale arroz a la zorra el abad\"\n",
    "print(is_palindrome(my_sentence))"
   ]
  },
  {
   "cell_type": "code",
   "execution_count": null,
   "id": "f439463c-4097-40de-b6be-cc2dca51f365",
   "metadata": {},
   "outputs": [],
   "source": []
  }
 ],
 "metadata": {
  "kernelspec": {
   "display_name": "Python 3 (ipykernel)",
   "language": "python",
   "name": "python3"
  },
  "language_info": {
   "codemirror_mode": {
    "name": "ipython",
    "version": 3
   },
   "file_extension": ".py",
   "mimetype": "text/x-python",
   "name": "python",
   "nbconvert_exporter": "python",
   "pygments_lexer": "ipython3",
   "version": "3.10.6"
  }
 },
 "nbformat": 4,
 "nbformat_minor": 5
}
