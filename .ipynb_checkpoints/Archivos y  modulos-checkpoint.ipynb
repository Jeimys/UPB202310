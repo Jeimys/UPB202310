{
 "cells": [
  {
   "cell_type": "markdown",
   "id": "2384e86e",
   "metadata": {},
   "source": [
    "### Namespaces"
   ]
  },
  {
   "cell_type": "markdown",
   "id": "80cd5143",
   "metadata": {},
   "source": [
    "### Modulo"
   ]
  },
  {
   "cell_type": "code",
   "execution_count": 1,
   "id": "3a669977",
   "metadata": {},
   "outputs": [
    {
     "name": "stdout",
     "output_type": "stream",
     "text": [
      "2023-03-01 15:08:22.499212\n"
     ]
    }
   ],
   "source": [
    "from datetime import datetime\n",
    "current_time = datetime.now()\n",
    "print(current_time)"
   ]
  },
  {
   "cell_type": "code",
   "execution_count": 7,
   "id": "6828fc28",
   "metadata": {},
   "outputs": [
    {
     "name": "stdout",
     "output_type": "stream",
     "text": [
      "{'brand': 'Honda', 'model': 'CB', 'year': '2020', 'price': '4000000'}\n",
      "{'brand': 'Yamaha', 'model': 'R1', 'year': '2023', 'price': '80000000'}\n",
      "{'brand': 'KTM', 'model': 'Duke 200', 'year': '2023', 'price': '17000000'}\n"
     ]
    }
   ],
   "source": [
    "import csv\n",
    "\n",
    "\n",
    "prices = []\n",
    "\n",
    "with open('moto_data.csv', newline='') as moto_data_csv:\n",
    "    moto_reader = csv.DictReader(moto_data_csv, delimiter=';')\n",
    "    for row in moto_reader:\n",
    "        print(row)\n",
    "        \n"
   ]
  },
  {
   "cell_type": "code",
   "execution_count": null,
   "id": "7c6650f7",
   "metadata": {},
   "outputs": [],
   "source": []
  },
  {
   "cell_type": "code",
   "execution_count": null,
   "id": "69ed80c8",
   "metadata": {},
   "outputs": [],
   "source": []
  },
  {
   "cell_type": "code",
   "execution_count": null,
   "id": "2ad98e00",
   "metadata": {},
   "outputs": [],
   "source": []
  },
  {
   "cell_type": "code",
   "execution_count": null,
   "id": "a60a0382",
   "metadata": {},
   "outputs": [],
   "source": []
  },
  {
   "cell_type": "code",
   "execution_count": null,
   "id": "2f1329ab",
   "metadata": {},
   "outputs": [],
   "source": []
  },
  {
   "cell_type": "code",
   "execution_count": null,
   "id": "8c16a040",
   "metadata": {},
   "outputs": [],
   "source": []
  },
  {
   "cell_type": "code",
   "execution_count": null,
   "id": "eb29182c",
   "metadata": {},
   "outputs": [],
   "source": []
  },
  {
   "cell_type": "code",
   "execution_count": null,
   "id": "1b6aa85a",
   "metadata": {},
   "outputs": [],
   "source": []
  },
  {
   "cell_type": "code",
   "execution_count": null,
   "id": "5702a342",
   "metadata": {},
   "outputs": [],
   "source": []
  },
  {
   "cell_type": "code",
   "execution_count": null,
   "id": "8353f7ad",
   "metadata": {},
   "outputs": [],
   "source": []
  }
 ],
 "metadata": {
  "kernelspec": {
   "display_name": "Python 3 (ipykernel)",
   "language": "python",
   "name": "python3"
  },
  "language_info": {
   "codemirror_mode": {
    "name": "ipython",
    "version": 3
   },
   "file_extension": ".py",
   "mimetype": "text/x-python",
   "name": "python",
   "nbconvert_exporter": "python",
   "pygments_lexer": "ipython3",
   "version": "3.9.7"
  }
 },
 "nbformat": 4,
 "nbformat_minor": 5
}
