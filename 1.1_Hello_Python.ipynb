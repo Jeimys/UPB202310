{
 "cells": [
  {
   "cell_type": "markdown",
   "id": "e14e4b60",
   "metadata": {},
   "source": [
    "## Introducción a Python"
   ]
  },
  {
   "cell_type": "code",
   "execution_count": null,
   "id": "377b0371",
   "metadata": {},
   "outputs": [],
   "source": [
    "# Los comentarios se colocan con #"
   ]
  },
  {
   "cell_type": "code",
   "execution_count": null,
   "id": "41e51b2c",
   "metadata": {},
   "outputs": [
    {
     "name": "stdout",
     "output_type": "stream",
     "text": [
      "My name is Miguel\n",
      "I am 31 years old.\n"
     ]
    }
   ],
   "source": [
    "name = \"Miguel\"\n",
    "print(\"My name is \" + name)\n",
    "age = 31\n",
    "print(\"I am \" + str(age) + \" years old.\")"
   ]
  },
  {
   "cell_type": "code",
   "execution_count": null,
   "id": "85877487",
   "metadata": {},
   "outputs": [
    {
     "name": "stdout",
     "output_type": "stream",
     "text": [
      "La estatura promedio es 168.33333333333334 cm\n"
     ]
    }
   ],
   "source": [
    "david_height = 170\n",
    "santana_height = 169\n",
    "maylin_height = 166\n",
    "avg_heigth = (david_height + santana_height + maylin_height) / 3\n",
    "print(\"La estatura promedio es \" + str(avg_heigth) + \" cm\")"
   ]
  },
  {
   "cell_type": "code",
   "execution_count": null,
   "id": "7e1918e1",
   "metadata": {},
   "outputs": [
    {
     "name": "stdout",
     "output_type": "stream",
     "text": [
      "170\n",
      "339\n",
      "505\n",
      "168.33333333333334\n"
     ]
    }
   ],
   "source": [
    "total_height = 0\n",
    "total_height += david_height\n",
    "print(total_height)\n",
    "total_height += santana_height\n",
    "print(total_height)\n",
    "total_height += maylin_height\n",
    "print(total_height)\n",
    "total_height /= 3\n",
    "print(total_height)"
   ]
  },
  {
   "cell_type": "markdown",
   "id": "98545356",
   "metadata": {},
   "source": [
    "## Flux Control"
   ]
  },
  {
   "cell_type": "code",
   "execution_count": null,
   "id": "547a0180",
   "metadata": {},
   "outputs": [
    {
     "name": "stdout",
     "output_type": "stream",
     "text": [
      "B\n"
     ]
    }
   ],
   "source": [
    "points = 85\n",
    "if points >= 90 and points < 100:\n",
    "    print(\"A\")\n",
    "elif points >= 75 and points < 90:\n",
    "    print(\"B\")\n",
    "elif points >= 60 and points < 75:\n",
    "    print(\"C\")\n",
    "elif points >= 0 and points < 60:\n",
    "    print(\"D\")\n",
    "else:\n",
    "    print(\"Nel\")"
   ]
  },
  {
   "cell_type": "code",
   "execution_count": null,
   "id": "88b650e3",
   "metadata": {},
   "outputs": [
    {
     "name": "stdout",
     "output_type": "stream",
     "text": [
      "Cuánto tiempo demoró?: 3\n",
      "Usted recorrió: 180.0 km\n"
     ]
    }
   ],
   "source": [
    "speed = 60 # km/h\n",
    "time = input(\"Cuánto tiempo demoró?: \")\n",
    "print(\"Usted recorrió: \" + str(speed*float(time)) + \" km\")"
   ]
  },
  {
   "cell_type": "markdown",
   "id": "9336a2f9",
   "metadata": {},
   "source": [
    "## Ternary Operators\n",
    "\n",
    "```python\n",
    "value_if_true if condition else value_if_false\n",
    "```"
   ]
  },
  {
   "cell_type": "code",
   "execution_count": 2,
   "id": "bd45d76d",
   "metadata": {},
   "outputs": [
    {
     "name": "stdout",
     "output_type": "stream",
     "text": [
      "nice\n"
     ]
    }
   ],
   "source": [
    "is_nice = True\n",
    "state = \"nice\" if is_nice else \"not nice\"\n",
    "print(state)"
   ]
  },
  {
   "cell_type": "code",
   "execution_count": null,
   "id": "c91e7f6e",
   "metadata": {},
   "outputs": [],
   "source": []
  }
 ],
 "metadata": {
  "kernelspec": {
   "display_name": "Python 3 (ipykernel)",
   "language": "python",
   "name": "python3"
  },
  "language_info": {
   "codemirror_mode": {
    "name": "ipython",
    "version": 3
   },
   "file_extension": ".py",
   "mimetype": "text/x-python",
   "name": "python",
   "nbconvert_exporter": "python",
   "pygments_lexer": "ipython3",
   "version": "3.9.7"
  }
 },
 "nbformat": 4,
 "nbformat_minor": 5
}
