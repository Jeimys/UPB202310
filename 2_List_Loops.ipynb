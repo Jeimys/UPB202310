{
 "cells": [
  {
   "cell_type": "code",
   "execution_count": 7,
   "id": "fec3f0ad-db87-4893-9119-89d7503f077b",
   "metadata": {},
   "outputs": [
    {
     "name": "stdout",
     "output_type": "stream",
     "text": [
      "[170, 163, 178, 165, 166, 160]\n"
     ]
    }
   ],
   "source": [
    "heights = []\n",
    "male_heights = [170, 163, 178, 165]\n",
    "female_heights = [166, 160]\n",
    "heights = male_heights + female_heights\n",
    "print(heights)"
   ]
  },
  {
   "cell_type": "code",
   "execution_count": 8,
   "id": "138d3cec-3111-4c27-9ccc-c510f192f71d",
   "metadata": {},
   "outputs": [
    {
     "name": "stdout",
     "output_type": "stream",
     "text": [
      "[170, 163, 178, 165, 166, 160, 168]\n",
      "[168, 160, 166, 165, 178, 163, 170]\n"
     ]
    }
   ],
   "source": [
    "heights.append(168)\n",
    "print(heights)\n",
    "print(heights[::-1])"
   ]
  },
  {
   "cell_type": "code",
   "execution_count": 9,
   "id": "19be52be-8199-4166-ac39-4299038fb72d",
   "metadata": {},
   "outputs": [
    {
     "name": "stdout",
     "output_type": "stream",
     "text": [
      "168\n"
     ]
    }
   ],
   "source": [
    "last_height = heights[-1]\n",
    "print(last_height)"
   ]
  },
  {
   "cell_type": "code",
   "execution_count": 10,
   "id": "31c0f244-1688-47c5-8c98-6ed4ff46059e",
   "metadata": {},
   "outputs": [
    {
     "name": "stdout",
     "output_type": "stream",
     "text": [
      "7\n"
     ]
    }
   ],
   "source": [
    "n_heights = len(heights)\n",
    "print(n_heights)"
   ]
  },
  {
   "cell_type": "code",
   "execution_count": 11,
   "id": "47a401f4-78db-4d4c-ba68-a87d61b95bd2",
   "metadata": {},
   "outputs": [
    {
     "name": "stdout",
     "output_type": "stream",
     "text": [
      "[0, 1, 2, 3, 4, 5, 6]\n"
     ]
    }
   ],
   "source": [
    "range_a = range(n_heights)\n",
    "print(list(range_a))"
   ]
  },
  {
   "cell_type": "code",
   "execution_count": 12,
   "id": "9ffca1ae-6c49-44f8-8cb1-2f428a432189",
   "metadata": {},
   "outputs": [
    {
     "name": "stdout",
     "output_type": "stream",
     "text": [
      "[2, 3, 4, 5, 6, 7, 8, 9, 10, 11, 12, 13, 14, 15]\n"
     ]
    }
   ],
   "source": [
    "range_b = range(2, 16)\n",
    "print(list(range_b))"
   ]
  },
  {
   "cell_type": "code",
   "execution_count": 13,
   "id": "e6803342-4304-4de3-ae6b-f4a5b43d2103",
   "metadata": {},
   "outputs": [
    {
     "name": "stdout",
     "output_type": "stream",
     "text": [
      "[5, 1, -3, -7]\n"
     ]
    }
   ],
   "source": [
    "range_c = range(5, -10, -4)\n",
    "print(list(range_c))"
   ]
  },
  {
   "cell_type": "code",
   "execution_count": 14,
   "id": "27ad7a8a-0824-465b-a0e8-494d021c10ff",
   "metadata": {},
   "outputs": [
    {
     "name": "stdout",
     "output_type": "stream",
     "text": [
      "[('Salchipapa', 20000), ('Pizza', 7000), ('Hamburguesa', 20000), ('Hot Dog', 2500)]\n"
     ]
    }
   ],
   "source": [
    "fast_foods = [\"Salchipapa\", \"Pizza\", \"Hamburguesa\", \"Hot Dog\"]\n",
    "prices = [20000, 7000, 20000, 2500]\n",
    "food_prices = list(zip(fast_foods, prices))\n",
    "print(food_prices)"
   ]
  },
  {
   "cell_type": "code",
   "execution_count": 15,
   "id": "7872bf8d-ff4d-4d55-904b-f014915285b8",
   "metadata": {},
   "outputs": [
    {
     "name": "stdout",
     "output_type": "stream",
     "text": [
      "20000\n"
     ]
    }
   ],
   "source": [
    "print(food_prices[0][1])"
   ]
  },
  {
   "cell_type": "code",
   "execution_count": 16,
   "id": "20cd2593-6879-4bfe-b3f4-d03264c2f2f6",
   "metadata": {},
   "outputs": [
    {
     "name": "stdout",
     "output_type": "stream",
     "text": [
      "Garavito\n",
      "Santana\n",
      "Joshua\n",
      "Zabala\n",
      "Juan Pablo\n"
     ]
    }
   ],
   "source": [
    "names = ['Garavito', 'Santana', 'Joshua', 'Zabala', 'Juan Pablo']\n",
    "for name in names:\n",
    "    print(name)"
   ]
  },
  {
   "cell_type": "code",
   "execution_count": 17,
   "id": "78f67296-6fa7-491b-858e-704764afe3ce",
   "metadata": {},
   "outputs": [
    {
     "name": "stdout",
     "output_type": "stream",
     "text": [
      "Garavito\n",
      "Santana\n",
      "Joshua\n",
      "Zabala\n",
      "Juan Pablo\n"
     ]
    }
   ],
   "source": [
    "for i in range(len(names)):\n",
    "    print(names[i])"
   ]
  },
  {
   "cell_type": "code",
   "execution_count": 18,
   "id": "438a76fd-9470-43e4-9ac5-dab3bac33811",
   "metadata": {},
   "outputs": [
    {
     "name": "stdout",
     "output_type": "stream",
     "text": [
      "5\n",
      "6\n",
      "7\n",
      "8\n",
      "9\n",
      "10\n",
      "11\n",
      "12\n",
      "13\n",
      "14\n"
     ]
    }
   ],
   "source": [
    "counter = 5\n",
    "while counter < 15:\n",
    "    print(counter)\n",
    "    counter += 1"
   ]
  },
  {
   "cell_type": "code",
   "execution_count": 20,
   "id": "cda5a635-aed0-47a5-83a9-b11d4c876bf9",
   "metadata": {},
   "outputs": [
    {
     "name": "stdout",
     "output_type": "stream",
     "text": [
      "[-8, 4, 1, -17, 25, 40, -29, -5]\n"
     ]
    }
   ],
   "source": [
    "m = 3\n",
    "b = -5\n",
    "x = [-1, 3, 2, -4, 10, 15, -8, 0]\n",
    "# y = mx + b\n",
    "y = [m*xi + b for xi in x]\n",
    "print(y)"
   ]
  },
  {
   "cell_type": "code",
   "execution_count": null,
   "id": "96da575d-f94c-4e1a-a750-e6acad433e2d",
   "metadata": {},
   "outputs": [],
   "source": []
  },
  {
   "cell_type": "code",
   "execution_count": null,
   "id": "e38acda5-cf02-4c95-93b2-73d3087f30fc",
   "metadata": {},
   "outputs": [],
   "source": []
  },
  {
   "cell_type": "code",
   "execution_count": null,
   "id": "ed1b5eec-ecbe-4ae6-9c8e-6d5eabc4dd6c",
   "metadata": {},
   "outputs": [],
   "source": []
  },
  {
   "cell_type": "code",
   "execution_count": null,
   "id": "13a5c49e-85da-4eb5-bf0d-d34d124f9cdd",
   "metadata": {},
   "outputs": [],
   "source": []
  },
  {
   "cell_type": "code",
   "execution_count": null,
   "id": "c48b93f2-7758-4c7c-ac40-e6a1255b4acb",
   "metadata": {},
   "outputs": [],
   "source": []
  },
  {
   "cell_type": "code",
   "execution_count": null,
   "id": "a5b0bea3-d941-4b91-96d7-52d00a90328e",
   "metadata": {},
   "outputs": [],
   "source": []
  },
  {
   "cell_type": "code",
   "execution_count": null,
   "id": "ee198809-73bf-4fb4-a2d6-e59546ce3fd6",
   "metadata": {},
   "outputs": [],
   "source": []
  },
  {
   "cell_type": "code",
   "execution_count": null,
   "id": "1bc2f4eb-e551-42e6-ba51-054ece80c68b",
   "metadata": {},
   "outputs": [],
   "source": []
  },
  {
   "cell_type": "code",
   "execution_count": null,
   "id": "6f272590-b859-40fa-ad71-2fd5f439178b",
   "metadata": {},
   "outputs": [],
   "source": []
  },
  {
   "cell_type": "code",
   "execution_count": null,
   "id": "a7765615-97ec-46d1-ab4c-b5159e121de5",
   "metadata": {},
   "outputs": [],
   "source": []
  },
  {
   "cell_type": "code",
   "execution_count": null,
   "id": "21e1efb8-e0a7-43e8-a28b-ab3c59676229",
   "metadata": {},
   "outputs": [],
   "source": []
  },
  {
   "cell_type": "code",
   "execution_count": 21,
   "id": "e26cbf4c-94f3-4701-8842-083c2b0c2e60",
   "metadata": {},
   "outputs": [
    {
     "name": "stdout",
     "output_type": "stream",
     "text": [
      "La lista con el número mayor es la lista B\n"
     ]
    }
   ],
   "source": [
    "A = [1, 3, 5, 18]\n",
    "B = [4, -1, 100]\n",
    "max_A = 0\n",
    "max_B = 0\n",
    "for a in A:\n",
    "    if a > max_A:\n",
    "        max_A = a\n",
    "for b in B:\n",
    "    if b > max_B:\n",
    "        max_B = b\n",
    "if max_A > max_B:\n",
    "    print(\"La lista con el número mayor es la lista A\")\n",
    "else:\n",
    "    print(\"La lista con el número mayor es la lista B\")"
   ]
  },
  {
   "cell_type": "code",
   "execution_count": 25,
   "id": "7cdd6bd7-a3df-4ea5-87ec-0f226d1afd53",
   "metadata": {},
   "outputs": [
    {
     "name": "stdout",
     "output_type": "stream",
     "text": [
      "¿Cuántos datos hay en la lista A?: \n",
      "10\n",
      "Ingrese el valor 1 de la lista: 1\n",
      "Ingrese el valor 2 de la lista: 7\n",
      "Ingrese el valor 3 de la lista: 3\n",
      "Ingrese el valor 4 de la lista: 90\n",
      "Ingrese el valor 5 de la lista: 5\n",
      "Ingrese el valor 6 de la lista: 6\n",
      "Ingrese el valor 7 de la lista: 2\n",
      "Ingrese el valor 8 de la lista: 6\n",
      "Ingrese el valor 9 de la lista: 8\n",
      "Ingrese el valor 10 de la lista: 13\n",
      "Lista A: [1, 7, 3, 90, 5, 6, 2, 6, 8, 13]\n",
      "¿Cuántos datos hay en la lista B?: \n",
      "5\n",
      "Ingrese el valor 1 de la lista: 1\n",
      "Ingrese el valor 2 de la lista: 5\n",
      "Ingrese el valor 3 de la lista: 67\n",
      "Ingrese el valor 4 de la lista: 1\n",
      "Ingrese el valor 5 de la lista: 2\n",
      "Lista B: [1, 5, 67, 1, 2]\n",
      "La lista con el número mayor es la lista A\n"
     ]
    }
   ],
   "source": [
    "n_A = int(input(\"¿Cuántos datos hay en la lista A?: \\n\"))\n",
    "A = []\n",
    "for i in range(n_A):\n",
    "    A.append(int(input(\"Ingrese el valor \" + str(i + 1) + \" de la lista: \")))\n",
    "print(\"Lista A: \" + str(A))\n",
    "\n",
    "n_B = int(input(\"¿Cuántos datos hay en la lista B?: \\n\"))\n",
    "B = []\n",
    "for i in range(n_B):\n",
    "    B.append(int(input(\"Ingrese el valor \" + str(i + 1) + \" de la lista: \")))\n",
    "print(\"Lista B: \" + str(B))\n",
    "\n",
    "max_A = 0\n",
    "max_B = 0\n",
    "for a in A:\n",
    "    if a > max_A:\n",
    "        max_A = a\n",
    "for b in B:\n",
    "    if b > max_B:\n",
    "        max_B = b\n",
    "if max_A > max_B:\n",
    "    print(\"La lista con el número mayor es la lista A\")\n",
    "else:\n",
    "    print(\"La lista con el número mayor es la lista B\")"
   ]
  },
  {
   "cell_type": "code",
   "execution_count": null,
   "id": "f9195ab2-02b8-4cbd-94e4-3f2c508824fe",
   "metadata": {},
   "outputs": [],
   "source": []
  },
  {
   "cell_type": "markdown",
   "id": "72d73b7e-c562-42d2-bf6e-91aff04e8eb8",
   "metadata": {},
   "source": [
    "Given the names and grades for each student in a class of  students, store them in a nested list and print the name(s) of any student(s) having the second lowest grade.\n",
    "\n",
    "Note: If there are multiple students with the second lowest grade, order their names alphabetically and print each name on a new line.\n",
    "\n",
    "#### Example\n",
    "\n",
    "The ordered list of scores is , so the second lowest score is . There are two students with that score: . Ordered alphabetically, the names are printed as:\n",
    "\n",
    "```\n",
    "alpha\n",
    "beta\n",
    "```\n",
    "\n",
    "#### Input Format\n",
    "\n",
    "The first line contains an integer, , the number of students.\n",
    "The  subsequent lines describe each student over  lines.\n",
    "- The first line contains a student's name.\n",
    "- The second line contains their grade.\n",
    "\n",
    "#### Constraints\n",
    "\n",
    "- $2 <= N <= 5$\n",
    "- There will always be one or more students having the second lowest grade.\n",
    "\n",
    "#### Output Format\n",
    "\n",
    "Print the name(s) of any student(s) having the second lowest grade in. If there are multiple students, order their names alphabetically and print each one on a new line.\n",
    "\n",
    "Sample Input 0\n",
    "\n",
    "```\n",
    "5\n",
    "Harry\n",
    "37.21\n",
    "Berry\n",
    "37.21\n",
    "Tina\n",
    "37.2\n",
    "Akriti\n",
    "41\n",
    "Harsh\n",
    "39\n",
    "```\n",
    "\n",
    "#### Sample Output 0\n",
    "\n",
    "```\n",
    "Berry\n",
    "Harry\n",
    "```\n",
    "\n",
    "#### Explanation 0\n",
    "\n",
    "There are  students in this class whose names and grades are assembled to build the following list:\n",
    "\n",
    "`python students = [['Harry', 37.21], ['Berry', 37.21], ['Tina', 37.2], ['Akriti', 41], ['Harsh', 39]]`\n",
    "\n",
    "The lowest grade of  belongs to Tina. The second lowest grade of  belongs to both Harry and Berry, so we order their names alphabetically and print each name on a new line."
   ]
  },
  {
   "cell_type": "code",
   "execution_count": 3,
   "id": "272f4c2a-d80c-46fa-8240-9c5e85903de7",
   "metadata": {},
   "outputs": [
    {
     "name": "stdout",
     "output_type": "stream",
     "text": [
      "How many students?: 3\n",
      "Name: John\n",
      "Score: 1\n",
      "Name: Albert\n",
      "Score: 2\n",
      "Name: Einstein\n",
      "Score: 3\n",
      "Second lowest score: Albert\n"
     ]
    }
   ],
   "source": [
    "if __name__ == '__main__':\n",
    "    names = []\n",
    "    scores = []\n",
    "    for _ in range(int(input(\"How many students?: \"))):\n",
    "        name = input(\"Name: \")\n",
    "        score = float(input(\"Score: \"))\n",
    "        names.append(name)\n",
    "        scores.append(score)\n",
    "        \n",
    "name_score = []\n",
    "\n",
    "for i in range(len(names)):\n",
    "    name_score.append([names[i], scores[i]])\n",
    "\n",
    "scores.sort()    \n",
    "\n",
    "min_points = min(scores)\n",
    "second_score_index = 0\n",
    "for score in scores:\n",
    "    if score == min_points:\n",
    "        second_score_index += 1\n",
    "\n",
    "second_names = []\n",
    "for pair in name_score:\n",
    "    if pair[1] == scores[second_score_index]:\n",
    "        second_names.append(pair[0])\n",
    "\n",
    "second_names.sort()\n",
    "for name in second_names:\n",
    "    print(f'Second lowest score: {name}')"
   ]
  },
  {
   "cell_type": "code",
   "execution_count": null,
   "id": "fcd49c9c-b5e8-4da9-9edb-9a463a2eafbe",
   "metadata": {},
   "outputs": [],
   "source": []
  }
 ],
 "metadata": {
  "kernelspec": {
   "display_name": "Python 3 (ipykernel)",
   "language": "python",
   "name": "python3"
  },
  "language_info": {
   "codemirror_mode": {
    "name": "ipython",
    "version": 3
   },
   "file_extension": ".py",
   "mimetype": "text/x-python",
   "name": "python",
   "nbconvert_exporter": "python",
   "pygments_lexer": "ipython3",
   "version": "3.10.6"
  }
 },
 "nbformat": 4,
 "nbformat_minor": 5
}
