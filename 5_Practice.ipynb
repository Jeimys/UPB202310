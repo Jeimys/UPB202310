{
 "cells": [
  {
   "cell_type": "code",
   "execution_count": 1,
   "id": "9f140f16",
   "metadata": {},
   "outputs": [],
   "source": [
    "string = \"AABCAAADA\"\n",
    "k = 3"
   ]
  },
  {
   "cell_type": "code",
   "execution_count": 5,
   "id": "66f0d330",
   "metadata": {},
   "outputs": [],
   "source": [
    "def print_us(string, k):\n",
    "    n = len(string)\n",
    "    t = []\n",
    "    for i in range(0, n, k):\n",
    "        t.append(string[i:i+k])\n",
    "    # print(t)\n",
    "    # Loop through t's and check repeated values\n",
    "    for t_i in t:\n",
    "        u = ''\n",
    "        for char in t_i:\n",
    "            if char not in u:\n",
    "                u += char\n",
    "        print(u)"
   ]
  },
  {
   "cell_type": "code",
   "execution_count": 6,
   "id": "3ecbbd3e",
   "metadata": {},
   "outputs": [
    {
     "name": "stdout",
     "output_type": "stream",
     "text": [
      "AB\n",
      "CA\n",
      "AD\n"
     ]
    }
   ],
   "source": [
    "print_us(string, k)"
   ]
  },
  {
   "cell_type": "code",
   "execution_count": null,
   "id": "4a793a89",
   "metadata": {},
   "outputs": [],
   "source": []
  }
 ],
 "metadata": {
  "kernelspec": {
   "display_name": "Python 3 (ipykernel)",
   "language": "python",
   "name": "python3"
  },
  "language_info": {
   "codemirror_mode": {
    "name": "ipython",
    "version": 3
   },
   "file_extension": ".py",
   "mimetype": "text/x-python",
   "name": "python",
   "nbconvert_exporter": "python",
   "pygments_lexer": "ipython3",
   "version": "3.10.6"
  }
 },
 "nbformat": 4,
 "nbformat_minor": 5
}
